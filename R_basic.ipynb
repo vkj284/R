{
 "cells": [
  {
   "cell_type": "markdown",
   "metadata": {},
   "source": [
    "### R Basic"
   ]
  },
  {
   "cell_type": "markdown",
   "metadata": {},
   "source": [
    "---------------------------------------------------------------------------------------------------------------------------------------------"
   ]
  },
  {
   "cell_type": "markdown",
   "metadata": {},
   "source": [
    "#### variable rule - vaild conditions\n",
    " 1. var_name2.\n",
    " 2. var.name\n",
    " 3. .var_name,"
   ]
  },
  {
   "cell_type": "markdown",
   "metadata": {},
   "source": [
    "#### variable rule - Invaild conditions\n",
    " 1. var_name%\n",
    " 2. 2var_name\n",
    " 3. .2var_name\n",
    " 4. _var_name"
   ]
  },
  {
   "cell_type": "markdown",
   "metadata": {},
   "source": [
    "#### variable value assignment"
   ]
  },
  {
   "cell_type": "code",
   "execution_count": 1,
   "metadata": {},
   "outputs": [],
   "source": [
    "a <- 12\n",
    "13 -> b\n",
    "c = a + b "
   ]
  },
  {
   "cell_type": "markdown",
   "metadata": {},
   "source": [
    "#### display function"
   ]
  },
  {
   "cell_type": "code",
   "execution_count": 4,
   "metadata": {},
   "outputs": [
    {
     "name": "stdout",
     "output_type": "stream",
     "text": [
      "a = 12 \n",
      "b = 13 \n",
      "c = 25 \n"
     ]
    }
   ],
   "source": [
    "cat(\"a =\",a,\"\\n\")\n",
    "cat(\"b =\",b,\"\\n\")\n",
    "cat(\"c =\",c,\"\\n\")"
   ]
  },
  {
   "cell_type": "code",
   "execution_count": 5,
   "metadata": {},
   "outputs": [
    {
     "name": "stdout",
     "output_type": "stream",
     "text": [
      "[1] \"hello world\"\n",
      "[1] 12\n",
      "[1] 13\n",
      "[1] 25\n"
     ]
    }
   ],
   "source": [
    "print(\"hello world\")\n",
    "print(a)\n",
    "print(b)\n",
    "print(c)"
   ]
  },
  {
   "cell_type": "markdown",
   "metadata": {},
   "source": [
    "## Finding variable"
   ]
  },
  {
   "cell_type": "code",
   "execution_count": 6,
   "metadata": {},
   "outputs": [
    {
     "name": "stdout",
     "output_type": "stream",
     "text": [
      "[1] \"a\"   \"ab\"  \"abc\" \"ac\"  \"b\"   \"bc\"  \"c\"  \n",
      "[1] \"a\"   \"ab\"  \"abc\" \"ac\" \n",
      " [1] \".a\"       \".b\"       \".c\"       \".pbd_env\" \"a\"        \"ab\"      \n",
      " [7] \"abc\"      \"ac\"       \"b\"        \"bc\"       \"c\"       \n"
     ]
    }
   ],
   "source": [
    "a = 20\n",
    "b = 30\n",
    "c = 40\n",
    ".a = 10\n",
    ".b = 20\n",
    ".c =30\n",
    "ab = 50\n",
    "bc = 70\n",
    "ac = 60\n",
    "abc = 90\n",
    "print(ls())\n",
    "print(ls(pattern=\"a\"))\n",
    "print(ls(all.name = TRUE))"
   ]
  },
  {
   "cell_type": "markdown",
   "metadata": {},
   "source": [
    "## Deleting Variable"
   ]
  },
  {
   "cell_type": "markdown",
   "metadata": {},
   "source": [
    "#### method 1:\n",
    "it is delete a single variable"
   ]
  },
  {
   "cell_type": "code",
   "execution_count": 7,
   "metadata": {},
   "outputs": [],
   "source": [
    "a = 20\n",
    "b = 30\n",
    "c = 40\n",
    ".a = 10\n",
    ".b = 20\n",
    ".c =30\n",
    "ab = 50\n",
    "bc = 70\n",
    "ac = 60\n",
    "abc = 90"
   ]
  },
  {
   "cell_type": "code",
   "execution_count": 8,
   "metadata": {},
   "outputs": [
    {
     "name": "stdout",
     "output_type": "stream",
     "text": [
      "NULL\n",
      "[1] \".b\"       \".c\"       \".pbd_env\" \"ab\"       \"abc\"      \"ac\"       \"bc\"      \n",
      "[8] \"c\"       \n"
     ]
    }
   ],
   "source": [
    "print(rm(a,b,.a))\n",
    "print(ls(all.name=TRUE))"
   ]
  },
  {
   "cell_type": "code",
   "execution_count": 9,
   "metadata": {},
   "outputs": [
    {
     "ename": "ERROR",
     "evalue": "Error in print(a): object 'a' not found\n",
     "output_type": "error",
     "traceback": [
      "Error in print(a): object 'a' not found\nTraceback:\n",
      "1. print(a)"
     ]
    }
   ],
   "source": [
    "print(a)"
   ]
  },
  {
   "cell_type": "code",
   "execution_count": 10,
   "metadata": {},
   "outputs": [
    {
     "ename": "ERROR",
     "evalue": "Error in print(b): object 'b' not found\n",
     "output_type": "error",
     "traceback": [
      "Error in print(b): object 'b' not found\nTraceback:\n",
      "1. print(b)"
     ]
    }
   ],
   "source": [
    "print(b)"
   ]
  },
  {
   "cell_type": "markdown",
   "metadata": {},
   "source": [
    "#### method 2:\n",
    "it is delete a all variable. but not delete begin with (.)dot variable"
   ]
  },
  {
   "cell_type": "code",
   "execution_count": 11,
   "metadata": {},
   "outputs": [
    {
     "name": "stdout",
     "output_type": "stream",
     "text": [
      "NULL\n",
      "character(0)\n",
      "[1] \".a\"       \".b\"       \".c\"       \".pbd_env\"\n"
     ]
    }
   ],
   "source": [
    "a = 20\n",
    "b = 30\n",
    "c = 40\n",
    ".a = 10\n",
    ".b = 20\n",
    ".c =30\n",
    "ab = 50\n",
    "bc = 70\n",
    "ac = 60\n",
    "abc = 90\n",
    "print(rm(list=ls()))\n",
    "print(ls())\n",
    "print(ls(all.name=TRUE))"
   ]
  },
  {
   "cell_type": "markdown",
   "metadata": {},
   "source": [
    "#### delete with (.)dot variable"
   ]
  },
  {
   "cell_type": "code",
   "execution_count": 12,
   "metadata": {},
   "outputs": [
    {
     "data": {
      "text/html": [
       "<style>\n",
       ".list-inline {list-style: none; margin:0; padding: 0}\n",
       ".list-inline>li {display: inline-block}\n",
       ".list-inline>li:not(:last-child)::after {content: \"\\00b7\"; padding: 0 .5ex}\n",
       "</style>\n",
       "<ol class=list-inline><li>'.a'</li><li>'.b'</li><li>'.c'</li><li>'.pbd_env'</li><li>'a'</li><li>'ab'</li><li>'abc'</li><li>'ac'</li><li>'b'</li><li>'bc'</li><li>'c'</li></ol>\n"
      ],
      "text/latex": [
       "\\begin{enumerate*}\n",
       "\\item '.a'\n",
       "\\item '.b'\n",
       "\\item '.c'\n",
       "\\item '.pbd\\_env'\n",
       "\\item 'a'\n",
       "\\item 'ab'\n",
       "\\item 'abc'\n",
       "\\item 'ac'\n",
       "\\item 'b'\n",
       "\\item 'bc'\n",
       "\\item 'c'\n",
       "\\end{enumerate*}\n"
      ],
      "text/markdown": [
       "1. '.a'\n",
       "2. '.b'\n",
       "3. '.c'\n",
       "4. '.pbd_env'\n",
       "5. 'a'\n",
       "6. 'ab'\n",
       "7. 'abc'\n",
       "8. 'ac'\n",
       "9. 'b'\n",
       "10. 'bc'\n",
       "11. 'c'\n",
       "\n",
       "\n"
      ],
      "text/plain": [
       " [1] \".a\"       \".b\"       \".c\"       \".pbd_env\" \"a\"        \"ab\"      \n",
       " [7] \"abc\"      \"ac\"       \"b\"        \"bc\"       \"c\"       "
      ]
     },
     "metadata": {},
     "output_type": "display_data"
    }
   ],
   "source": [
    "a = 20\n",
    "b = 30\n",
    "c = 40\n",
    ".a = 10\n",
    ".b = 20\n",
    ".c =30\n",
    "ab = 50\n",
    "bc = 70\n",
    "ac = 60\n",
    "abc = 90\n",
    "ls(all.name=TRUE)"
   ]
  },
  {
   "cell_type": "code",
   "execution_count": 13,
   "metadata": {},
   "outputs": [
    {
     "data": {
      "text/html": [
       "<style>\n",
       ".list-inline {list-style: none; margin:0; padding: 0}\n",
       ".list-inline>li {display: inline-block}\n",
       ".list-inline>li:not(:last-child)::after {content: \"\\00b7\"; padding: 0 .5ex}\n",
       "</style>\n",
       "<ol class=list-inline><li>'.b'</li><li>'.c'</li><li>'.pbd_env'</li><li>'a'</li><li>'ab'</li><li>'abc'</li><li>'ac'</li><li>'b'</li><li>'bc'</li><li>'c'</li></ol>\n"
      ],
      "text/latex": [
       "\\begin{enumerate*}\n",
       "\\item '.b'\n",
       "\\item '.c'\n",
       "\\item '.pbd\\_env'\n",
       "\\item 'a'\n",
       "\\item 'ab'\n",
       "\\item 'abc'\n",
       "\\item 'ac'\n",
       "\\item 'b'\n",
       "\\item 'bc'\n",
       "\\item 'c'\n",
       "\\end{enumerate*}\n"
      ],
      "text/markdown": [
       "1. '.b'\n",
       "2. '.c'\n",
       "3. '.pbd_env'\n",
       "4. 'a'\n",
       "5. 'ab'\n",
       "6. 'abc'\n",
       "7. 'ac'\n",
       "8. 'b'\n",
       "9. 'bc'\n",
       "10. 'c'\n",
       "\n",
       "\n"
      ],
      "text/plain": [
       " [1] \".b\"       \".c\"       \".pbd_env\" \"a\"        \"ab\"       \"abc\"     \n",
       " [7] \"ac\"       \"b\"        \"bc\"       \"c\"       "
      ]
     },
     "metadata": {},
     "output_type": "display_data"
    }
   ],
   "source": [
    "rm(.a)\n",
    "ls(all.name=TRUE)"
   ]
  },
  {
   "cell_type": "code",
   "execution_count": 14,
   "metadata": {},
   "outputs": [
    {
     "name": "stdout",
     "output_type": "stream",
     "text": [
      "[1] \".b\"       \".c\"       \".pbd_env\" \"b\"        \"bc\"       \"c\"       \n"
     ]
    }
   ],
   "source": [
    "rm(list=ls(pattern=\"a\"))\n",
    "print(ls(all.name=TRUE))"
   ]
  },
  {
   "cell_type": "code",
   "execution_count": null,
   "metadata": {},
   "outputs": [],
   "source": [
    "print(rm(list=ls(all.name=TRUE)))"
   ]
  },
  {
   "cell_type": "code",
   "execution_count": 1,
   "metadata": {},
   "outputs": [
    {
     "name": "stdout",
     "output_type": "stream",
     "text": [
      "character(0)\n"
     ]
    }
   ],
   "source": [
    "print(ls())"
   ]
  },
  {
   "cell_type": "code",
   "execution_count": 2,
   "metadata": {},
   "outputs": [
    {
     "name": "stdout",
     "output_type": "stream",
     "text": [
      "[1] \".pbd_env\"\n"
     ]
    }
   ],
   "source": [
    "print(ls(all.name=TRUE))"
   ]
  },
  {
   "cell_type": "markdown",
   "metadata": {},
   "source": [
    "---------------------------------------------------------------------------------------------------------------------------------------------"
   ]
  },
  {
   "cell_type": "markdown",
   "metadata": {},
   "source": [
    "#### R-Data Type\n",
    " 1. Logical\n",
    " 2. Numeric\n",
    " 3. Integer\n",
    " 4. Complex\n",
    " 5. Character\n",
    " 6. Raw"
   ]
  },
  {
   "cell_type": "markdown",
   "metadata": {},
   "source": [
    "#### logical - TRUE,FALSE"
   ]
  },
  {
   "cell_type": "code",
   "execution_count": 3,
   "metadata": {},
   "outputs": [
    {
     "name": "stdout",
     "output_type": "stream",
     "text": [
      "[1] TRUE\n",
      "[1] \"logical\"\n"
     ]
    }
   ],
   "source": [
    "v= TRUE\n",
    "print(v)\n",
    "print(class(v))"
   ]
  },
  {
   "cell_type": "markdown",
   "metadata": {},
   "source": [
    "#### Numeric - 12.2,4,5"
   ]
  },
  {
   "cell_type": "code",
   "execution_count": 4,
   "metadata": {},
   "outputs": [
    {
     "name": "stdout",
     "output_type": "stream",
     "text": [
      "[1] 45\n",
      "[1] \"numeric\"\n",
      "[1] 9.8\n",
      "[1] \"numeric\"\n"
     ]
    }
   ],
   "source": [
    "a=45\n",
    "b=9.8\n",
    "print(a)\n",
    "print(class(a))\n",
    "print(b)\n",
    "print(class(b))"
   ]
  },
  {
   "cell_type": "markdown",
   "metadata": {},
   "source": [
    "#### integer "
   ]
  },
  {
   "cell_type": "code",
   "execution_count": 5,
   "metadata": {},
   "outputs": [
    {
     "name": "stdout",
     "output_type": "stream",
     "text": [
      "[1] 2\n",
      "[1] \"integer\"\n",
      "[1] 3.5\n",
      "[1] \"numeric\"\n"
     ]
    }
   ],
   "source": [
    "a=2L\n",
    "b=3.5L\n",
    "print(a)\n",
    "print(class(a))\n",
    "print(b)\n",
    "print(class(b))"
   ]
  },
  {
   "cell_type": "markdown",
   "metadata": {},
   "source": [
    "note:\n",
    " 1. all integer are numeric.\n",
    " 2. all numeric are not a integer"
   ]
  },
  {
   "cell_type": "markdown",
   "metadata": {},
   "source": [
    "## complex"
   ]
  },
  {
   "cell_type": "code",
   "execution_count": 6,
   "metadata": {},
   "outputs": [
    {
     "name": "stdout",
     "output_type": "stream",
     "text": [
      "[1] 2+3i\n",
      "[1] 3+2i\n",
      "[1] 5+5i\n",
      "[1] -5+1i\n"
     ]
    },
    {
     "data": {
      "text/html": [
       "'complex'"
      ],
      "text/latex": [
       "'complex'"
      ],
      "text/markdown": [
       "'complex'"
      ],
      "text/plain": [
       "[1] \"complex\""
      ]
     },
     "metadata": {},
     "output_type": "display_data"
    }
   ],
   "source": [
    "a=3i+2\n",
    "print(a)\n",
    "b=3+2i\n",
    "print(b)\n",
    "c=3i+2+2i+3\n",
    "print(c)\n",
    "d=3i-2-2i-3\n",
    "print(d)\n",
    "class(d)"
   ]
  },
  {
   "cell_type": "markdown",
   "metadata": {},
   "source": [
    "## Character"
   ]
  },
  {
   "cell_type": "code",
   "execution_count": 7,
   "metadata": {},
   "outputs": [
    {
     "name": "stdout",
     "output_type": "stream",
     "text": [
      "[1] \"v\"\n"
     ]
    },
    {
     "data": {
      "text/html": [
       "'character'"
      ],
      "text/latex": [
       "'character'"
      ],
      "text/markdown": [
       "'character'"
      ],
      "text/plain": [
       "[1] \"character\""
      ]
     },
     "metadata": {},
     "output_type": "display_data"
    },
    {
     "name": "stdout",
     "output_type": "stream",
     "text": [
      "[1] \"venkateshwaran\"\n"
     ]
    },
    {
     "data": {
      "text/html": [
       "'character'"
      ],
      "text/latex": [
       "'character'"
      ],
      "text/markdown": [
       "'character'"
      ],
      "text/plain": [
       "[1] \"character\""
      ]
     },
     "metadata": {},
     "output_type": "display_data"
    }
   ],
   "source": [
    "a='v'\n",
    "v='venkateshwaran'\n",
    "print(a)\n",
    "class(a)\n",
    "print(v)\n",
    "class(v)"
   ]
  },
  {
   "cell_type": "markdown",
   "metadata": {},
   "source": [
    "## raw"
   ]
  },
  {
   "cell_type": "code",
   "execution_count": 8,
   "metadata": {},
   "outputs": [
    {
     "data": {
      "text/plain": [
       "[1] 68 65 6c 6c 6f"
      ]
     },
     "metadata": {},
     "output_type": "display_data"
    }
   ],
   "source": [
    "#\"Hello\" is stored as 68 65 6c 6c 6f\n",
    "a = charToRaw(\"hello\")\n",
    "a"
   ]
  },
  {
   "cell_type": "markdown",
   "metadata": {},
   "source": [
    "---------------------------------------------------------------------------------------------------------------------------------------------"
   ]
  },
  {
   "cell_type": "markdown",
   "metadata": {},
   "source": [
    "## R-operators\n",
    " 1. Arithmetic Operators\n",
    " 2. Relational Operators\n",
    " 3. Logical Operators\n",
    " 4. Assignment Operators\n",
    " 5. Miscellaneous Operators"
   ]
  },
  {
   "cell_type": "markdown",
   "metadata": {},
   "source": [
    "## Arithmethic Operators"
   ]
  },
  {
   "cell_type": "code",
   "execution_count": 9,
   "metadata": {},
   "outputs": [
    {
     "data": {
      "text/html": [
       "5"
      ],
      "text/latex": [
       "5"
      ],
      "text/markdown": [
       "5"
      ],
      "text/plain": [
       "[1] 5"
      ]
     },
     "metadata": {},
     "output_type": "display_data"
    }
   ],
   "source": [
    "2+3"
   ]
  },
  {
   "cell_type": "code",
   "execution_count": 10,
   "metadata": {},
   "outputs": [
    {
     "data": {
      "text/html": [
       "-1"
      ],
      "text/latex": [
       "-1"
      ],
      "text/markdown": [
       "-1"
      ],
      "text/plain": [
       "[1] -1"
      ]
     },
     "metadata": {},
     "output_type": "display_data"
    }
   ],
   "source": [
    "2-3"
   ]
  },
  {
   "cell_type": "code",
   "execution_count": 11,
   "metadata": {},
   "outputs": [
    {
     "data": {
      "text/html": [
       "8"
      ],
      "text/latex": [
       "8"
      ],
      "text/markdown": [
       "8"
      ],
      "text/plain": [
       "[1] 8"
      ]
     },
     "metadata": {},
     "output_type": "display_data"
    }
   ],
   "source": [
    "2*4"
   ]
  },
  {
   "cell_type": "code",
   "execution_count": 12,
   "metadata": {},
   "outputs": [
    {
     "data": {
      "text/html": [
       "5.5"
      ],
      "text/latex": [
       "5.5"
      ],
      "text/markdown": [
       "5.5"
      ],
      "text/plain": [
       "[1] 5.5"
      ]
     },
     "metadata": {},
     "output_type": "display_data"
    }
   ],
   "source": [
    "11/2"
   ]
  },
  {
   "cell_type": "code",
   "execution_count": 13,
   "metadata": {},
   "outputs": [
    {
     "data": {
      "text/html": [
       "1"
      ],
      "text/latex": [
       "1"
      ],
      "text/markdown": [
       "1"
      ],
      "text/plain": [
       "[1] 1"
      ]
     },
     "metadata": {},
     "output_type": "display_data"
    }
   ],
   "source": [
    "11%%2"
   ]
  },
  {
   "cell_type": "code",
   "execution_count": 14,
   "metadata": {},
   "outputs": [
    {
     "data": {
      "text/html": [
       "16"
      ],
      "text/latex": [
       "16"
      ],
      "text/markdown": [
       "16"
      ],
      "text/plain": [
       "[1] 16"
      ]
     },
     "metadata": {},
     "output_type": "display_data"
    }
   ],
   "source": [
    "4^2"
   ]
  },
  {
   "cell_type": "markdown",
   "metadata": {},
   "source": [
    "## relation operators"
   ]
  },
  {
   "cell_type": "code",
   "execution_count": 15,
   "metadata": {},
   "outputs": [
    {
     "data": {
      "text/html": [
       "TRUE"
      ],
      "text/latex": [
       "TRUE"
      ],
      "text/markdown": [
       "TRUE"
      ],
      "text/plain": [
       "[1] TRUE"
      ]
     },
     "metadata": {},
     "output_type": "display_data"
    }
   ],
   "source": [
    "10 > 5"
   ]
  },
  {
   "cell_type": "code",
   "execution_count": 16,
   "metadata": {},
   "outputs": [
    {
     "data": {
      "text/html": [
       "FALSE"
      ],
      "text/latex": [
       "FALSE"
      ],
      "text/markdown": [
       "FALSE"
      ],
      "text/plain": [
       "[1] FALSE"
      ]
     },
     "metadata": {},
     "output_type": "display_data"
    }
   ],
   "source": [
    "10 < 5"
   ]
  },
  {
   "cell_type": "code",
   "execution_count": 17,
   "metadata": {},
   "outputs": [
    {
     "data": {
      "text/html": [
       "TRUE"
      ],
      "text/latex": [
       "TRUE"
      ],
      "text/markdown": [
       "TRUE"
      ],
      "text/plain": [
       "[1] TRUE"
      ]
     },
     "metadata": {},
     "output_type": "display_data"
    }
   ],
   "source": [
    "10 <= 10"
   ]
  },
  {
   "cell_type": "code",
   "execution_count": 18,
   "metadata": {},
   "outputs": [
    {
     "data": {
      "text/html": [
       "TRUE"
      ],
      "text/latex": [
       "TRUE"
      ],
      "text/markdown": [
       "TRUE"
      ],
      "text/plain": [
       "[1] TRUE"
      ]
     },
     "metadata": {},
     "output_type": "display_data"
    }
   ],
   "source": [
    "20 >= 10"
   ]
  },
  {
   "cell_type": "code",
   "execution_count": 19,
   "metadata": {},
   "outputs": [
    {
     "data": {
      "text/html": [
       "TRUE"
      ],
      "text/latex": [
       "TRUE"
      ],
      "text/markdown": [
       "TRUE"
      ],
      "text/plain": [
       "[1] TRUE"
      ]
     },
     "metadata": {},
     "output_type": "display_data"
    }
   ],
   "source": [
    "55 == 55"
   ]
  },
  {
   "cell_type": "code",
   "execution_count": 20,
   "metadata": {},
   "outputs": [
    {
     "data": {
      "text/html": [
       "TRUE"
      ],
      "text/latex": [
       "TRUE"
      ],
      "text/markdown": [
       "TRUE"
      ],
      "text/plain": [
       "[1] TRUE"
      ]
     },
     "metadata": {},
     "output_type": "display_data"
    }
   ],
   "source": [
    "54 != 55"
   ]
  },
  {
   "cell_type": "markdown",
   "metadata": {},
   "source": [
    "## logical operators"
   ]
  },
  {
   "cell_type": "code",
   "execution_count": 21,
   "metadata": {},
   "outputs": [
    {
     "data": {
      "text/html": [
       "FALSE"
      ],
      "text/latex": [
       "FALSE"
      ],
      "text/markdown": [
       "FALSE"
      ],
      "text/plain": [
       "[1] FALSE"
      ]
     },
     "metadata": {},
     "output_type": "display_data"
    }
   ],
   "source": [
    "10 >5 & 6 <5 # & or &&"
   ]
  },
  {
   "cell_type": "code",
   "execution_count": 22,
   "metadata": {},
   "outputs": [
    {
     "data": {
      "text/html": [
       "TRUE"
      ],
      "text/latex": [
       "TRUE"
      ],
      "text/markdown": [
       "TRUE"
      ],
      "text/plain": [
       "[1] TRUE"
      ]
     },
     "metadata": {},
     "output_type": "display_data"
    }
   ],
   "source": [
    "10 >5 | 6 <5 # | or ||"
   ]
  },
  {
   "cell_type": "code",
   "execution_count": 23,
   "metadata": {},
   "outputs": [
    {
     "data": {
      "text/html": [
       "FALSE"
      ],
      "text/latex": [
       "FALSE"
      ],
      "text/markdown": [
       "FALSE"
      ],
      "text/plain": [
       "[1] FALSE"
      ]
     },
     "metadata": {},
     "output_type": "display_data"
    }
   ],
   "source": [
    "a=11\n",
    "!a == 11"
   ]
  },
  {
   "cell_type": "markdown",
   "metadata": {},
   "source": [
    "## assignment operators"
   ]
  },
  {
   "cell_type": "code",
   "execution_count": 24,
   "metadata": {},
   "outputs": [
    {
     "name": "stdout",
     "output_type": "stream",
     "text": [
      "a= 15 \n",
      "b= 20"
     ]
    }
   ],
   "source": [
    "# Left Assignment\n",
    "a <<- 15\n",
    "b <- 20\n",
    "cat(\"a=\",a,\"\\nb=\",b)"
   ]
  },
  {
   "cell_type": "code",
   "execution_count": 25,
   "metadata": {},
   "outputs": [
    {
     "name": "stdout",
     "output_type": "stream",
     "text": [
      "a= 15 \n",
      "b= 20"
     ]
    }
   ],
   "source": [
    "# Right Assignment\n",
    "15 ->> a\n",
    "20 -> b\n",
    "cat(\"a=\",a,\"\\nb=\",b)"
   ]
  },
  {
   "cell_type": "code",
   "execution_count": 26,
   "metadata": {},
   "outputs": [
    {
     "name": "stdout",
     "output_type": "stream",
     "text": [
      "[1] 45\n"
     ]
    }
   ],
   "source": [
    "# equal operator assignment\n",
    "a = 45\n",
    "print(a)"
   ]
  },
  {
   "cell_type": "markdown",
   "metadata": {},
   "source": [
    "## Miscellaneous Operators"
   ]
  },
  {
   "cell_type": "code",
   "execution_count": 27,
   "metadata": {},
   "outputs": [
    {
     "name": "stdout",
     "output_type": "stream",
     "text": [
      "[1] 2 3 4 5\n",
      "[1] \"integer\"\n"
     ]
    }
   ],
   "source": [
    "# : -colon operator\n",
    "a= 2:5\n",
    "print(a)\n",
    "print(class(a))"
   ]
  },
  {
   "cell_type": "code",
   "execution_count": 28,
   "metadata": {},
   "outputs": [
    {
     "name": "stdout",
     "output_type": "stream",
     "text": [
      "[1] FALSE  TRUE FALSE FALSE\n"
     ]
    }
   ],
   "source": [
    "# identify element\n",
    "a= 2:5 # 2=3,3=3,4=3,5=3\n",
    "b=3\n",
    "print(a %in% b)"
   ]
  },
  {
   "cell_type": "markdown",
   "metadata": {},
   "source": [
    "## seq()"
   ]
  },
  {
   "cell_type": "code",
   "execution_count": 29,
   "metadata": {},
   "outputs": [
    {
     "name": "stdout",
     "output_type": "stream",
     "text": [
      " [1]  0  2  4  6  8 10 12 14 16 18 20\n"
     ]
    }
   ],
   "source": [
    "a = seq(0,21,by=2)\n",
    "print(a)"
   ]
  },
  {
   "cell_type": "raw",
   "metadata": {},
   "source": [
    "%+%, %-% ,%*%, %/% it is used for vectors"
   ]
  },
  {
   "cell_type": "markdown",
   "metadata": {},
   "source": [
    "---------------------------------------------------------------------------------------------------------------------------------------------"
   ]
  },
  {
   "cell_type": "markdown",
   "metadata": {},
   "source": [
    "## desinion Making\n",
    " 1. if statement\n",
    " 2. if-else statement\n",
    " 3. switch statement"
   ]
  },
  {
   "cell_type": "markdown",
   "metadata": {},
   "source": [
    "## if-statement"
   ]
  },
  {
   "cell_type": "code",
   "execution_count": 30,
   "metadata": {},
   "outputs": [
    {
     "name": "stdout",
     "output_type": "stream",
     "text": [
      "[1] \"Truth is found\"\n"
     ]
    }
   ],
   "source": [
    "x <- c(\"what\",\"is\",\"truth\")\n",
    "if(\"truth\" %in% x) {\n",
    "   print(\"Truth is found\")\n",
    "} "
   ]
  },
  {
   "cell_type": "markdown",
   "metadata": {},
   "source": [
    "## if-else statement"
   ]
  },
  {
   "cell_type": "code",
   "execution_count": 31,
   "metadata": {},
   "outputs": [
    {
     "name": "stdout",
     "output_type": "stream",
     "text": [
      "[1] \"Truth is not found\"\n"
     ]
    }
   ],
   "source": [
    "x <- c(\"what\",\"is\",\"truth\")\n",
    "if(\"Truth\" %in% x) {\n",
    "   print(\"Truth is found\")\n",
    "} else {\n",
    "   print(\"Truth is not found\")\n",
    "}"
   ]
  },
  {
   "cell_type": "markdown",
   "metadata": {},
   "source": [
    "## switch Statement"
   ]
  },
  {
   "cell_type": "code",
   "execution_count": 32,
   "metadata": {},
   "outputs": [
    {
     "name": "stdout",
     "output_type": "stream",
     "text": [
      "[1] 10\n"
     ]
    }
   ],
   "source": [
    "a = 3\n",
    "b = 7\n",
    "c = 1\n",
    "x <- switch(\n",
    "   c,\n",
    "   a+b,\n",
    "   a-b,\n",
    "   a*b,\n",
    "   a/b\n",
    ")\n",
    "print(x)"
   ]
  },
  {
   "cell_type": "markdown",
   "metadata": {},
   "source": [
    "---------------------------------------------------------------------------------------------------------------------------------------------"
   ]
  },
  {
   "cell_type": "markdown",
   "metadata": {},
   "source": [
    "## R- Loops\n",
    " 1. forloop\n",
    " 2. while loop\n",
    " 3. repeat loop"
   ]
  },
  {
   "cell_type": "markdown",
   "metadata": {},
   "source": [
    "## for Loop"
   ]
  },
  {
   "cell_type": "code",
   "execution_count": 33,
   "metadata": {},
   "outputs": [
    {
     "name": "stdout",
     "output_type": "stream",
     "text": [
      "[1] 1\n",
      "[1] 2\n",
      "[1] 3\n",
      "[1] 4\n"
     ]
    }
   ],
   "source": [
    "v <- 1:4\n",
    "for ( i in v) {\n",
    "   print(i)\n",
    "}"
   ]
  },
  {
   "cell_type": "markdown",
   "metadata": {},
   "source": [
    "## while loop"
   ]
  },
  {
   "cell_type": "code",
   "execution_count": 34,
   "metadata": {},
   "outputs": [
    {
     "name": "stdout",
     "output_type": "stream",
     "text": [
      "[1] 0\n",
      "[1] 1\n",
      "[1] 2\n",
      "[1] 3\n",
      "[1] 4\n",
      "[1] 5\n",
      "[1] 6\n"
     ]
    }
   ],
   "source": [
    "v =0\n",
    "while (v < 7) {\n",
    "   print(v)\n",
    "   v = v + 1\n",
    "}"
   ]
  },
  {
   "cell_type": "markdown",
   "metadata": {},
   "source": [
    "## Repeat Loop"
   ]
  },
  {
   "cell_type": "code",
   "execution_count": 35,
   "metadata": {},
   "outputs": [
    {
     "name": "stdout",
     "output_type": "stream",
     "text": [
      "[1] 0\n",
      "[1] 1\n",
      "[1] 2\n",
      "[1] 3\n",
      "[1] 4\n",
      "[1] 5\n"
     ]
    }
   ],
   "source": [
    "v=0\n",
    "repeat {\n",
    "   print(v)\n",
    "   v <- v+1\n",
    "   \n",
    "   if(v > 5) {\n",
    "      break\n",
    "   }\n",
    "}"
   ]
  },
  {
   "cell_type": "markdown",
   "metadata": {},
   "source": [
    "---------------------------------------------------------------------------------------------------------------------------------------------"
   ]
  },
  {
   "cell_type": "markdown",
   "metadata": {},
   "source": [
    "## control statement\n",
    " 1. break\n",
    " 2. next"
   ]
  },
  {
   "cell_type": "markdown",
   "metadata": {},
   "source": [
    "## break"
   ]
  },
  {
   "cell_type": "code",
   "execution_count": 36,
   "metadata": {},
   "outputs": [
    {
     "name": "stdout",
     "output_type": "stream",
     "text": [
      "[1] 1\n",
      "[1] 2\n",
      "[1] 3\n"
     ]
    }
   ],
   "source": [
    "v <- 1:6\n",
    "for ( i in v) {\n",
    "   \n",
    "   if (i == 4) {\n",
    "      break\n",
    "   }\n",
    "   print(i)\n",
    "}"
   ]
  },
  {
   "cell_type": "code",
   "execution_count": 37,
   "metadata": {},
   "outputs": [
    {
     "name": "stdout",
     "output_type": "stream",
     "text": [
      "[1] 1\n",
      "[1] 2\n",
      "[1] 3\n",
      "[1] 5\n",
      "[1] 6\n"
     ]
    }
   ],
   "source": [
    "v <- 1:6\n",
    "for ( i in v) {\n",
    "   \n",
    "   if (i == 4) {\n",
    "      next\n",
    "   }\n",
    "   print(i)\n",
    "}"
   ]
  },
  {
   "cell_type": "markdown",
   "metadata": {},
   "source": [
    "----------------------------------------------------------------------------------------------------------------------------"
   ]
  },
  {
   "cell_type": "markdown",
   "metadata": {},
   "source": [
    "## string"
   ]
  },
  {
   "cell_type": "code",
   "execution_count": 38,
   "metadata": {},
   "outputs": [
    {
     "name": "stdout",
     "output_type": "stream",
     "text": [
      "[1] \"Start and end with single quote\"\n",
      "[1] \"Start and end with double quotes\"\n",
      "[1] \"single quote ' in between double quotes\"\n",
      "[1] \"Double quotes \\\" in between single quote\"\n"
     ]
    }
   ],
   "source": [
    "# valid string\n",
    "a <- 'Start and end with single quote'\n",
    "print(a)\n",
    "\n",
    "b <- \"Start and end with double quotes\"\n",
    "print(b)\n",
    "\n",
    "c <- \"single quote ' in between double quotes\"\n",
    "print(c)\n",
    "\n",
    "d <- 'Double quotes \" in between single quote'\n",
    "print(d)"
   ]
  },
  {
   "cell_type": "markdown",
   "metadata": {},
   "source": [
    "## Concatenating Strings - paste() function\n",
    " Syntax:\n",
    " \n",
    " paste(..., sep = \" \", collapse = NULL)\n"
   ]
  },
  {
   "cell_type": "markdown",
   "metadata": {},
   "source": [
    "##### Following is the description of the parameters used\n",
    "... represents any number of arguments to be combined.\n",
    " \n",
    " sep represents any separator between the arguments. It is optional.\n",
    " \n",
    " collapse is used to eliminate the space in between two strings. But not the space within two words of one string."
   ]
  },
  {
   "cell_type": "code",
   "execution_count": 39,
   "metadata": {},
   "outputs": [
    {
     "name": "stdout",
     "output_type": "stream",
     "text": [
      "[1] \"Hello How are you? \"\n",
      "[1] \"Hello-How-are you? \"\n",
      "[1] \"HelloHoware you? hello\"\n"
     ]
    }
   ],
   "source": [
    "a <- \"Hello\"\n",
    "b <- 'How'\n",
    "c <- \"are you? \"\n",
    "\n",
    "print(paste(a,b,c))\n",
    "\n",
    "print(paste(a,b,c, sep = \"-\"))\n",
    "\n",
    "print(paste(a,b,c,\"hello\",sep = \"\", collapse = \"\"))"
   ]
  },
  {
   "cell_type": "markdown",
   "metadata": {},
   "source": [
    "## Formatting numbers & strings - format() function\n",
    " syntax:\n",
    " \n",
    " format(x, digits, nsmall, scientific, width, justify = c(\"left\", \"right\", \"centre\", \"none\"))"
   ]
  },
  {
   "cell_type": "markdown",
   "metadata": {},
   "source": [
    "##### Following is the description of the parameters used \n",
    " \n",
    " x is the vector input.\n",
    " \n",
    " digits is the total number of digits displayed.\n",
    " \n",
    " nsmall is the minimum number of digits to the right of the decimal point.\n",
    " \n",
    " scientific is set to TRUE to display scientific notation.\n",
    " \n",
    " width indicates the minimum width to be displayed by padding blanks in the beginning.\n",
    " \n",
    " justify is the display of the string to left, right or center."
   ]
  },
  {
   "cell_type": "code",
   "execution_count": 40,
   "metadata": {},
   "outputs": [
    {
     "name": "stdout",
     "output_type": "stream",
     "text": [
      "[1] \"23.1234568\"\n"
     ]
    }
   ],
   "source": [
    "# Total number of digits displayed. Last digit rounded off.\n",
    "result <- format(23.123456789, digits = 9)\n",
    "print(result)"
   ]
  },
  {
   "cell_type": "code",
   "execution_count": 41,
   "metadata": {},
   "outputs": [
    {
     "name": "stdout",
     "output_type": "stream",
     "text": [
      "[1] \"6.000000e+00\" \"1.314521e+01\"\n"
     ]
    }
   ],
   "source": [
    "# Display numbers in scientific notation.\n",
    "result <- format(c(6, 13.14521), scientific = TRUE)\n",
    "print(result)"
   ]
  },
  {
   "cell_type": "code",
   "execution_count": 42,
   "metadata": {},
   "outputs": [
    {
     "name": "stdout",
     "output_type": "stream",
     "text": [
      "[1] \"23.47000\"\n"
     ]
    }
   ],
   "source": [
    "# The minimum number of digits to the right of the decimal point.\n",
    "result <- format(23.47, nsmall = 5)\n",
    "print(result)"
   ]
  },
  {
   "cell_type": "code",
   "execution_count": 43,
   "metadata": {},
   "outputs": [
    {
     "name": "stdout",
     "output_type": "stream",
     "text": [
      "[1] \"6\"\n"
     ]
    }
   ],
   "source": [
    "# Format treats everything as a string.\n",
    "result <- format(6)\n",
    "print(result)\n"
   ]
  },
  {
   "cell_type": "code",
   "execution_count": 44,
   "metadata": {},
   "outputs": [
    {
     "name": "stdout",
     "output_type": "stream",
     "text": [
      "[1] \"     13.7\"\n"
     ]
    }
   ],
   "source": [
    "# Numbers are padded with blank in the beginning for width.\n",
    "result <- format(13.7, width = 9)\n",
    "print(result)\n"
   ]
  },
  {
   "cell_type": "code",
   "execution_count": 45,
   "metadata": {},
   "outputs": [
    {
     "name": "stdout",
     "output_type": "stream",
     "text": [
      "[1] \"  Hello   \"\n"
     ]
    }
   ],
   "source": [
    "# Left justify strings.\n",
    "result <- format(\"Hello\", width = 10, justify = \"c\")\n",
    "print(result)"
   ]
  },
  {
   "cell_type": "code",
   "execution_count": 46,
   "metadata": {},
   "outputs": [
    {
     "name": "stdout",
     "output_type": "stream",
     "text": [
      "[1] \"Hello   \"\n"
     ]
    }
   ],
   "source": [
    "# Justfy string with center.\n",
    "result <- format(\"Hello\", width = 8, justify = \"l\")\n",
    "print(result)"
   ]
  },
  {
   "cell_type": "code",
   "execution_count": 47,
   "metadata": {},
   "outputs": [
    {
     "name": "stdout",
     "output_type": "stream",
     "text": [
      "[1] \"   Hello\"\n"
     ]
    }
   ],
   "source": [
    "result <- format(\"Hello\", width = 8, justify = \"r\")\n",
    "print(result)"
   ]
  },
  {
   "cell_type": "markdown",
   "metadata": {},
   "source": [
    "## Counting number of characters in a string - nchar() function\n",
    "#### Syntax\n",
    " nchar(x)\n",
    "##### Following is the description of the parameters used \n",
    " x is the vector input."
   ]
  },
  {
   "cell_type": "code",
   "execution_count": 48,
   "metadata": {},
   "outputs": [
    {
     "name": "stdout",
     "output_type": "stream",
     "text": [
      "[1] 30\n"
     ]
    }
   ],
   "source": [
    "result <- nchar(\"Count the number of characters\")\n",
    "print(result)"
   ]
  },
  {
   "cell_type": "markdown",
   "metadata": {},
   "source": [
    "## upper and lower case"
   ]
  },
  {
   "cell_type": "markdown",
   "metadata": {},
   "source": [
    "#### syntax\n",
    " toupper(x)\n",
    " \n",
    " tolower(x)"
   ]
  },
  {
   "cell_type": "code",
   "execution_count": 49,
   "metadata": {},
   "outputs": [
    {
     "name": "stdout",
     "output_type": "stream",
     "text": [
      "[1] \"CHANGING TO UPPER\"\n",
      "[1] \"changing to lower\"\n"
     ]
    }
   ],
   "source": [
    "# Changing to Upper case.\n",
    "result <- toupper(\"Changing To Upper\")\n",
    "print(result)\n",
    "\n",
    "# Changing to lower case.\n",
    "result <- tolower(\"Changing To Lower\")\n",
    "print(result)"
   ]
  },
  {
   "cell_type": "markdown",
   "metadata": {},
   "source": [
    "## Extracting parts of a string - substring() function\n",
    "#### Syntax\n",
    "substring(x,first,last)\n",
    "##### Following is the description of the parameters used\n",
    " x is the character vector input.\n",
    " \n",
    " first is the position of the first character to be extracted.\n",
    " \n",
    " last is the position of the last character to be extracted."
   ]
  },
  {
   "cell_type": "code",
   "execution_count": 50,
   "metadata": {},
   "outputs": [
    {
     "name": "stdout",
     "output_type": "stream",
     "text": [
      "[1] \"act\"\n"
     ]
    }
   ],
   "source": [
    "# Extract characters from 5th to 7th position.\n",
    "result <- substring(\"Extract\", 5, 7)\n",
    "print(result)"
   ]
  },
  {
   "cell_type": "markdown",
   "metadata": {},
   "source": [
    "----------------------------------------------------------------------------------------------------------------------------"
   ]
  },
  {
   "cell_type": "markdown",
   "metadata": {},
   "source": [
    "#### R-objects\n",
    " 1. Vectors\n",
    " 2. Lists\n",
    " 3. Matrices\n",
    " 4. Array\n",
    " 5. Factors\n",
    " 6. Data Frames"
   ]
  },
  {
   "cell_type": "markdown",
   "metadata": {},
   "source": [
    "---------------------------------------------------------------------------------------------------------------------------------------------"
   ]
  },
  {
   "cell_type": "markdown",
   "metadata": {},
   "source": [
    "## Vectors"
   ]
  },
  {
   "cell_type": "markdown",
   "metadata": {},
   "source": [
    "vectors is one dimensional of array. it is store data in different type"
   ]
  },
  {
   "cell_type": "code",
   "execution_count": 51,
   "metadata": {},
   "outputs": [
    {
     "name": "stdout",
     "output_type": "stream",
     "text": [
      "[1] \"1\"     \"3.4\"   \"hello\" \"TRUE\" \n"
     ]
    }
   ],
   "source": [
    "# creatng vectors\n",
    "a = c(1,3.4,\"hello\",TRUE)\n",
    "print(a)"
   ]
  },
  {
   "cell_type": "code",
   "execution_count": 52,
   "metadata": {},
   "outputs": [
    {
     "name": "stdout",
     "output_type": "stream",
     "text": [
      "[1] \"1\"\n",
      "[1] \"1\"     \"hello\"\n",
      "\n",
      "[1] \"1\"    \"TRUE\"\n",
      "\n",
      "[1] \"1\"     \"hello\" \"TRUE\" \n",
      "[1] \"1\"    \"TRUE\"\n"
     ]
    }
   ],
   "source": [
    "# accessing vectors using position\n",
    "print(a[1])\n",
    "print(a[c(1,3)])\n",
    "\n",
    "# Accessing vector elements using logical indexing.\n",
    "cat(\"\\n\")\n",
    "b=a[c(TRUE,FALSE,FALSE,TRUE)]\n",
    "print(b)\n",
    "\n",
    "# Accessing vector elements using negative indexing\n",
    "cat(\"\\n\")\n",
    "print(a[-2])\n",
    "print(a[c(-2,-3)])"
   ]
  },
  {
   "cell_type": "markdown",
   "metadata": {},
   "source": [
    "## Vector Manipulation\n",
    " 1. vector arithmethic\n",
    " 2. vector element recycle \n",
    " 3. vector sorting"
   ]
  },
  {
   "cell_type": "code",
   "execution_count": 53,
   "metadata": {},
   "outputs": [
    {
     "name": "stdout",
     "output_type": "stream",
     "text": [
      "\n",
      " 4 12 15 \n",
      " 0 -2 3 \n",
      " 4 35 54 \n",
      " 1 0.7142857 1.5"
     ]
    }
   ],
   "source": [
    "# vector arithmethic\n",
    "a = c(2,5,9)\n",
    "b = c(2,7,6)\n",
    "cat(\"\\n\",a+b,\"\\n\",a-b,\"\\n\",a*b,\"\\n\",a/b)"
   ]
  },
  {
   "cell_type": "code",
   "execution_count": 54,
   "metadata": {},
   "outputs": [
    {
     "name": "stdout",
     "output_type": "stream",
     "text": [
      "[1]  4.0 12.9 16.0 13.0 19.0 19.0\n"
     ]
    }
   ],
   "source": [
    "# vector element recyle\n",
    "a = c(2,5.9,10,11,12,13)\n",
    "b = c(2,7,6)\n",
    "print(a+b)"
   ]
  },
  {
   "cell_type": "code",
   "execution_count": 55,
   "metadata": {},
   "outputs": [
    {
     "data": {
      "text/html": [
       "<style>\n",
       ".list-inline {list-style: none; margin:0; padding: 0}\n",
       ".list-inline>li {display: inline-block}\n",
       ".list-inline>li:not(:last-child)::after {content: \"\\00b7\"; padding: 0 .5ex}\n",
       "</style>\n",
       "<ol class=list-inline><li>'10'</li><li>'11'</li><li>'12'</li><li>'13'</li><li>'2'</li><li>'5.9'</li><li>'a'</li><li>'z'</li></ol>\n"
      ],
      "text/latex": [
       "\\begin{enumerate*}\n",
       "\\item '10'\n",
       "\\item '11'\n",
       "\\item '12'\n",
       "\\item '13'\n",
       "\\item '2'\n",
       "\\item '5.9'\n",
       "\\item 'a'\n",
       "\\item 'z'\n",
       "\\end{enumerate*}\n"
      ],
      "text/markdown": [
       "1. '10'\n",
       "2. '11'\n",
       "3. '12'\n",
       "4. '13'\n",
       "5. '2'\n",
       "6. '5.9'\n",
       "7. 'a'\n",
       "8. 'z'\n",
       "\n",
       "\n"
      ],
      "text/plain": [
       "[1] \"10\"  \"11\"  \"12\"  \"13\"  \"2\"   \"5.9\" \"a\"   \"z\"  "
      ]
     },
     "metadata": {},
     "output_type": "display_data"
    }
   ],
   "source": [
    "# vecctor sorting\n",
    "a = c(2,5.9,11,10,13,12,\"a\",\"z\")\n",
    "sort(a)"
   ]
  },
  {
   "cell_type": "code",
   "execution_count": 56,
   "metadata": {},
   "outputs": [
    {
     "data": {
      "text/html": [
       "<style>\n",
       ".list-inline {list-style: none; margin:0; padding: 0}\n",
       ".list-inline>li {display: inline-block}\n",
       ".list-inline>li:not(:last-child)::after {content: \"\\00b7\"; padding: 0 .5ex}\n",
       "</style>\n",
       "<ol class=list-inline><li>'z'</li><li>'a'</li><li>'5.9'</li><li>'2'</li><li>'13'</li><li>'12'</li><li>'11'</li><li>'10'</li></ol>\n"
      ],
      "text/latex": [
       "\\begin{enumerate*}\n",
       "\\item 'z'\n",
       "\\item 'a'\n",
       "\\item '5.9'\n",
       "\\item '2'\n",
       "\\item '13'\n",
       "\\item '12'\n",
       "\\item '11'\n",
       "\\item '10'\n",
       "\\end{enumerate*}\n"
      ],
      "text/markdown": [
       "1. 'z'\n",
       "2. 'a'\n",
       "3. '5.9'\n",
       "4. '2'\n",
       "5. '13'\n",
       "6. '12'\n",
       "7. '11'\n",
       "8. '10'\n",
       "\n",
       "\n"
      ],
      "text/plain": [
       "[1] \"z\"   \"a\"   \"5.9\" \"2\"   \"13\"  \"12\"  \"11\"  \"10\" "
      ]
     },
     "metadata": {},
     "output_type": "display_data"
    }
   ],
   "source": [
    "sort(a,decreasing = TRUE)"
   ]
  },
  {
   "cell_type": "code",
   "execution_count": 57,
   "metadata": {},
   "outputs": [
    {
     "name": "stdout",
     "output_type": "stream",
     "text": [
      "[1]  2  5 10 11 12 13\n",
      "[1]   2   5  10  11  12  13 100\n",
      "[1]   4   5  10  11  12  13 100\n",
      "[1]   4 100 300  11  12  13 100\n",
      "[1]   4 100 300  11  NA  NA  NA\n"
     ]
    }
   ],
   "source": [
    "a = c(2,5,10,11,12,13)\n",
    "print(a)\n",
    "#adding new value\n",
    "a[7]=100\n",
    "print(a)\n",
    "#update value\n",
    "a[1]=4\n",
    "print(a)\n",
    "a[c(2,3)]=c(100,300)\n",
    "print(a)\n",
    "#delete value is not possible to change a null value\n",
    "a[7]= NA\n",
    "a[c(5,6)]=c(NA)\n",
    "print(a)"
   ]
  },
  {
   "cell_type": "markdown",
   "metadata": {},
   "source": [
    "---------------------------------------------------------------------------------------------------------------------------------------------"
   ]
  },
  {
   "cell_type": "markdown",
   "metadata": {},
   "source": [
    "## List"
   ]
  },
  {
   "cell_type": "markdown",
   "metadata": {},
   "source": [
    "it is similar to list. it is multi dimensional arrary. it is stored in different type of data"
   ]
  },
  {
   "cell_type": "code",
   "execution_count": 58,
   "metadata": {},
   "outputs": [
    {
     "data": {
      "text/html": [
       "<ol>\n",
       "\t<li><style>\n",
       ".list-inline {list-style: none; margin:0; padding: 0}\n",
       ".list-inline>li {display: inline-block}\n",
       ".list-inline>li:not(:last-child)::after {content: \"\\00b7\"; padding: 0 .5ex}\n",
       "</style>\n",
       "<ol class=list-inline><li>'red'</li><li>'green'</li></ol>\n",
       "</li>\n",
       "\t<li>1</li>\n",
       "\t<li>4</li>\n",
       "</ol>\n"
      ],
      "text/latex": [
       "\\begin{enumerate}\n",
       "\\item \\begin{enumerate*}\n",
       "\\item 'red'\n",
       "\\item 'green'\n",
       "\\end{enumerate*}\n",
       "\n",
       "\\item 1\n",
       "\\item 4\n",
       "\\end{enumerate}\n"
      ],
      "text/markdown": [
       "1. 1. 'red'\n",
       "2. 'green'\n",
       "\n",
       "\n",
       "\n",
       "2. 1\n",
       "3. 4\n",
       "\n",
       "\n"
      ],
      "text/plain": [
       "[[1]]\n",
       "[1] \"red\"   \"green\"\n",
       "\n",
       "[[2]]\n",
       "[1] 1\n",
       "\n",
       "[[3]]\n",
       "[1] 4\n"
      ]
     },
     "metadata": {},
     "output_type": "display_data"
    }
   ],
   "source": [
    "# creating list\n",
    "a=list(c(\"red\",\"green\"),1,4L)\n",
    "a"
   ]
  },
  {
   "cell_type": "code",
   "execution_count": 59,
   "metadata": {},
   "outputs": [
    {
     "data": {
      "text/html": [
       "<ol>\n",
       "\t<li><style>\n",
       ".list-inline {list-style: none; margin:0; padding: 0}\n",
       ".list-inline>li {display: inline-block}\n",
       ".list-inline>li:not(:last-child)::after {content: \"\\00b7\"; padding: 0 .5ex}\n",
       "</style>\n",
       "<ol class=list-inline><li>'red'</li><li>'green'</li></ol>\n",
       "</li>\n",
       "</ol>\n"
      ],
      "text/latex": [
       "\\begin{enumerate}\n",
       "\\item \\begin{enumerate*}\n",
       "\\item 'red'\n",
       "\\item 'green'\n",
       "\\end{enumerate*}\n",
       "\n",
       "\\end{enumerate}\n"
      ],
      "text/markdown": [
       "1. 1. 'red'\n",
       "2. 'green'\n",
       "\n",
       "\n",
       "\n",
       "\n",
       "\n"
      ],
      "text/plain": [
       "[[1]]\n",
       "[1] \"red\"   \"green\"\n"
      ]
     },
     "metadata": {},
     "output_type": "display_data"
    },
    {
     "data": {
      "text/html": [
       "<ol>\n",
       "\t<li>4</li>\n",
       "</ol>\n"
      ],
      "text/latex": [
       "\\begin{enumerate}\n",
       "\\item 4\n",
       "\\end{enumerate}\n"
      ],
      "text/markdown": [
       "1. 4\n",
       "\n",
       "\n"
      ],
      "text/plain": [
       "[[1]]\n",
       "[1] 4\n"
      ]
     },
     "metadata": {},
     "output_type": "display_data"
    }
   ],
   "source": [
    "#accessing\n",
    "a[1]\n",
    "a[3]"
   ]
  },
  {
   "cell_type": "code",
   "execution_count": 60,
   "metadata": {},
   "outputs": [
    {
     "data": {
      "text/html": [
       "<style>\n",
       ".list-inline {list-style: none; margin:0; padding: 0}\n",
       ".list-inline>li {display: inline-block}\n",
       ".list-inline>li:not(:last-child)::after {content: \"\\00b7\"; padding: 0 .5ex}\n",
       "</style>\n",
       "<ol class=list-inline><li>'vectors'</li><li>'numeric'</li><li>'integer'</li></ol>\n"
      ],
      "text/latex": [
       "\\begin{enumerate*}\n",
       "\\item 'vectors'\n",
       "\\item 'numeric'\n",
       "\\item 'integer'\n",
       "\\end{enumerate*}\n"
      ],
      "text/markdown": [
       "1. 'vectors'\n",
       "2. 'numeric'\n",
       "3. 'integer'\n",
       "\n",
       "\n"
      ],
      "text/plain": [
       "[1] \"vectors\" \"numeric\" \"integer\""
      ]
     },
     "metadata": {},
     "output_type": "display_data"
    },
    {
     "data": {
      "text/html": [
       "'numeric'"
      ],
      "text/latex": [
       "'numeric'"
      ],
      "text/markdown": [
       "'numeric'"
      ],
      "text/plain": [
       "[1] \"numeric\""
      ]
     },
     "metadata": {},
     "output_type": "display_data"
    },
    {
     "name": "stdout",
     "output_type": "stream",
     "text": [
      "\n",
      "$vectors\n",
      "[1] \"red\"   \"green\"\n",
      "\n",
      "$numeric\n",
      "[1] 1\n",
      "\n",
      "$integer\n",
      "[1] 4\n",
      "\n",
      "[1] 4\n"
     ]
    }
   ],
   "source": [
    "# accessing with NAming list element\n",
    "names(a)=c(\"vectors\",\"numeric\",\"integer\")\n",
    "names(a)\n",
    "names(a[2])\n",
    "cat(\"\\n\")\n",
    "print(a)\n",
    "print(a$integer)"
   ]
  },
  {
   "cell_type": "markdown",
   "metadata": {},
   "source": [
    "## Manipulating List Elements"
   ]
  },
  {
   "cell_type": "code",
   "execution_count": 61,
   "metadata": {},
   "outputs": [
    {
     "data": {
      "text/html": [
       "<ol>\n",
       "\t<li>NULL</li>\n",
       "</ol>\n"
      ],
      "text/latex": [
       "\\begin{enumerate}\n",
       "\\item NULL\n",
       "\\end{enumerate}\n"
      ],
      "text/markdown": [
       "1. NULL\n",
       "\n",
       "\n"
      ],
      "text/plain": [
       "[[1]]\n",
       "NULL\n"
      ]
     },
     "metadata": {},
     "output_type": "display_data"
    },
    {
     "data": {
      "text/html": [
       "<ol>\n",
       "\t<li><style>\n",
       ".list-inline {list-style: none; margin:0; padding: 0}\n",
       ".list-inline>li {display: inline-block}\n",
       ".list-inline>li:not(:last-child)::after {content: \"\\00b7\"; padding: 0 .5ex}\n",
       "</style>\n",
       "<ol class=list-inline><li>'red'</li><li>'green'</li></ol>\n",
       "</li>\n",
       "\t<li>1</li>\n",
       "\t<li>4</li>\n",
       "\t<li>'hello'</li>\n",
       "</ol>\n"
      ],
      "text/latex": [
       "\\begin{enumerate}\n",
       "\\item \\begin{enumerate*}\n",
       "\\item 'red'\n",
       "\\item 'green'\n",
       "\\end{enumerate*}\n",
       "\n",
       "\\item 1\n",
       "\\item 4\n",
       "\\item 'hello'\n",
       "\\end{enumerate}\n"
      ],
      "text/markdown": [
       "1. 1. 'red'\n",
       "2. 'green'\n",
       "\n",
       "\n",
       "\n",
       "2. 1\n",
       "3. 4\n",
       "4. 'hello'\n",
       "\n",
       "\n"
      ],
      "text/plain": [
       "[[1]]\n",
       "[1] \"red\"   \"green\"\n",
       "\n",
       "[[2]]\n",
       "[1] 1\n",
       "\n",
       "[[3]]\n",
       "[1] 4\n",
       "\n",
       "[[4]]\n",
       "[1] \"hello\"\n"
      ]
     },
     "metadata": {},
     "output_type": "display_data"
    },
    {
     "data": {
      "text/html": [
       "<ol>\n",
       "\t<li>'hello'</li>\n",
       "</ol>\n"
      ],
      "text/latex": [
       "\\begin{enumerate}\n",
       "\\item 'hello'\n",
       "\\end{enumerate}\n"
      ],
      "text/markdown": [
       "1. 'hello'\n",
       "\n",
       "\n"
      ],
      "text/plain": [
       "[[1]]\n",
       "[1] \"hello\"\n"
      ]
     },
     "metadata": {},
     "output_type": "display_data"
    },
    {
     "data": {
      "text/html": [
       "<ol>\n",
       "\t<li><style>\n",
       ".list-inline {list-style: none; margin:0; padding: 0}\n",
       ".list-inline>li {display: inline-block}\n",
       ".list-inline>li:not(:last-child)::after {content: \"\\00b7\"; padding: 0 .5ex}\n",
       "</style>\n",
       "<ol class=list-inline><li>'red'</li><li>'green'</li></ol>\n",
       "</li>\n",
       "</ol>\n"
      ],
      "text/latex": [
       "\\begin{enumerate}\n",
       "\\item \\begin{enumerate*}\n",
       "\\item 'red'\n",
       "\\item 'green'\n",
       "\\end{enumerate*}\n",
       "\n",
       "\\end{enumerate}\n"
      ],
      "text/markdown": [
       "1. 1. 'red'\n",
       "2. 'green'\n",
       "\n",
       "\n",
       "\n",
       "\n",
       "\n"
      ],
      "text/plain": [
       "[[1]]\n",
       "[1] \"red\"   \"green\"\n"
      ]
     },
     "metadata": {},
     "output_type": "display_data"
    }
   ],
   "source": [
    "# adding value\n",
    "a=list(c(\"red\",\"green\"),1,4L)\n",
    "a[4]\n",
    "a[4]=\"hello\"\n",
    "a\n",
    "a[4]\n",
    "a[1]"
   ]
  },
  {
   "cell_type": "code",
   "execution_count": 62,
   "metadata": {},
   "outputs": [
    {
     "data": {
      "text/html": [
       "<ol>\n",
       "\t<li><style>\n",
       ".list-inline {list-style: none; margin:0; padding: 0}\n",
       ".list-inline>li {display: inline-block}\n",
       ".list-inline>li:not(:last-child)::after {content: \"\\00b7\"; padding: 0 .5ex}\n",
       "</style>\n",
       "<ol class=list-inline><li>'red'</li><li>'green'</li></ol>\n",
       "</li>\n",
       "\t<li>1</li>\n",
       "\t<li>4</li>\n",
       "\t<li>'world'</li>\n",
       "</ol>\n"
      ],
      "text/latex": [
       "\\begin{enumerate}\n",
       "\\item \\begin{enumerate*}\n",
       "\\item 'red'\n",
       "\\item 'green'\n",
       "\\end{enumerate*}\n",
       "\n",
       "\\item 1\n",
       "\\item 4\n",
       "\\item 'world'\n",
       "\\end{enumerate}\n"
      ],
      "text/markdown": [
       "1. 1. 'red'\n",
       "2. 'green'\n",
       "\n",
       "\n",
       "\n",
       "2. 1\n",
       "3. 4\n",
       "4. 'world'\n",
       "\n",
       "\n"
      ],
      "text/plain": [
       "[[1]]\n",
       "[1] \"red\"   \"green\"\n",
       "\n",
       "[[2]]\n",
       "[1] 1\n",
       "\n",
       "[[3]]\n",
       "[1] 4\n",
       "\n",
       "[[4]]\n",
       "[1] \"world\"\n"
      ]
     },
     "metadata": {},
     "output_type": "display_data"
    },
    {
     "data": {
      "text/html": [
       "<ol>\n",
       "\t<li><style>\n",
       ".list-inline {list-style: none; margin:0; padding: 0}\n",
       ".list-inline>li {display: inline-block}\n",
       ".list-inline>li:not(:last-child)::after {content: \"\\00b7\"; padding: 0 .5ex}\n",
       "</style>\n",
       "<ol class=list-inline><li>'red'</li><li>'green'</li></ol>\n",
       "</li>\n",
       "\t<li>1</li>\n",
       "\t<li>4</li>\n",
       "\t<li>&lt;NA&gt;</li>\n",
       "</ol>\n"
      ],
      "text/latex": [
       "\\begin{enumerate}\n",
       "\\item \\begin{enumerate*}\n",
       "\\item 'red'\n",
       "\\item 'green'\n",
       "\\end{enumerate*}\n",
       "\n",
       "\\item 1\n",
       "\\item 4\n",
       "\\item <NA>\n",
       "\\end{enumerate}\n"
      ],
      "text/markdown": [
       "1. 1. 'red'\n",
       "2. 'green'\n",
       "\n",
       "\n",
       "\n",
       "2. 1\n",
       "3. 4\n",
       "4. &lt;NA&gt;\n",
       "\n",
       "\n"
      ],
      "text/plain": [
       "[[1]]\n",
       "[1] \"red\"   \"green\"\n",
       "\n",
       "[[2]]\n",
       "[1] 1\n",
       "\n",
       "[[3]]\n",
       "[1] 4\n",
       "\n",
       "[[4]]\n",
       "[1] NA\n"
      ]
     },
     "metadata": {},
     "output_type": "display_data"
    },
    {
     "data": {
      "text/html": [
       "<ol>\n",
       "\t<li><style>\n",
       ".list-inline {list-style: none; margin:0; padding: 0}\n",
       ".list-inline>li {display: inline-block}\n",
       ".list-inline>li:not(:last-child)::after {content: \"\\00b7\"; padding: 0 .5ex}\n",
       "</style>\n",
       "<ol class=list-inline><li>'red'</li><li>'green'</li></ol>\n",
       "</li>\n",
       "\t<li>1</li>\n",
       "\t<li>4</li>\n",
       "</ol>\n"
      ],
      "text/latex": [
       "\\begin{enumerate}\n",
       "\\item \\begin{enumerate*}\n",
       "\\item 'red'\n",
       "\\item 'green'\n",
       "\\end{enumerate*}\n",
       "\n",
       "\\item 1\n",
       "\\item 4\n",
       "\\end{enumerate}\n"
      ],
      "text/markdown": [
       "1. 1. 'red'\n",
       "2. 'green'\n",
       "\n",
       "\n",
       "\n",
       "2. 1\n",
       "3. 4\n",
       "\n",
       "\n"
      ],
      "text/plain": [
       "[[1]]\n",
       "[1] \"red\"   \"green\"\n",
       "\n",
       "[[2]]\n",
       "[1] 1\n",
       "\n",
       "[[3]]\n",
       "[1] 4\n"
      ]
     },
     "metadata": {},
     "output_type": "display_data"
    }
   ],
   "source": [
    "# update value\n",
    "a[4]=\"world\"\n",
    "a\n",
    "a[4]=NA\n",
    "a\n",
    "a[4]=NULL\n",
    "a"
   ]
  },
  {
   "cell_type": "code",
   "execution_count": 63,
   "metadata": {},
   "outputs": [
    {
     "data": {
      "text/html": [
       "'list'"
      ],
      "text/latex": [
       "'list'"
      ],
      "text/markdown": [
       "'list'"
      ],
      "text/plain": [
       "[1] \"list\""
      ]
     },
     "metadata": {},
     "output_type": "display_data"
    },
    {
     "name": "stdout",
     "output_type": "stream",
     "text": [
      "[[1]]\n",
      "[1]  2  5 10 11 12 13\n",
      "\n",
      "[[2]]\n",
      "[1] \"red\"   \"green\" \"78\"   \n",
      "\n",
      "[[3]]\n",
      "[1] 1\n",
      "\n",
      "[[4]]\n",
      "[1] 4\n",
      "\n"
     ]
    }
   ],
   "source": [
    "# merge list\n",
    "a = list(c(2,5,10,11,12,13))\n",
    "b = list(c(\"red\",\"green\",78),1,4L)\n",
    "c = c(a,b)\n",
    "class(c)\n",
    "print(c)"
   ]
  },
  {
   "cell_type": "code",
   "execution_count": 64,
   "metadata": {},
   "outputs": [
    {
     "data": {
      "text/html": [
       "<style>\n",
       ".list-inline {list-style: none; margin:0; padding: 0}\n",
       ".list-inline>li {display: inline-block}\n",
       ".list-inline>li:not(:last-child)::after {content: \"\\00b7\"; padding: 0 .5ex}\n",
       "</style>\n",
       "<ol class=list-inline><li>'2'</li><li>'5'</li><li>'10'</li><li>'11'</li><li>'12'</li><li>'13'</li><li>'red'</li><li>'green'</li><li>'78'</li><li>'1'</li><li>'4'</li></ol>\n"
      ],
      "text/latex": [
       "\\begin{enumerate*}\n",
       "\\item '2'\n",
       "\\item '5'\n",
       "\\item '10'\n",
       "\\item '11'\n",
       "\\item '12'\n",
       "\\item '13'\n",
       "\\item 'red'\n",
       "\\item 'green'\n",
       "\\item '78'\n",
       "\\item '1'\n",
       "\\item '4'\n",
       "\\end{enumerate*}\n"
      ],
      "text/markdown": [
       "1. '2'\n",
       "2. '5'\n",
       "3. '10'\n",
       "4. '11'\n",
       "5. '12'\n",
       "6. '13'\n",
       "7. 'red'\n",
       "8. 'green'\n",
       "9. '78'\n",
       "10. '1'\n",
       "11. '4'\n",
       "\n",
       "\n"
      ],
      "text/plain": [
       " [1] \"2\"     \"5\"     \"10\"    \"11\"    \"12\"    \"13\"    \"red\"   \"green\" \"78\"   \n",
       "[10] \"1\"     \"4\"    "
      ]
     },
     "metadata": {},
     "output_type": "display_data"
    }
   ],
   "source": [
    "#unlist is convert any type\n",
    "c= unlist(c)\n",
    "c"
   ]
  },
  {
   "cell_type": "code",
   "execution_count": 65,
   "metadata": {},
   "outputs": [
    {
     "data": {
      "text/html": [
       "'numeric'"
      ],
      "text/latex": [
       "'numeric'"
      ],
      "text/markdown": [
       "'numeric'"
      ],
      "text/plain": [
       "[1] \"numeric\""
      ]
     },
     "metadata": {},
     "output_type": "display_data"
    },
    {
     "data": {
      "text/html": [
       "<style>\n",
       ".list-inline {list-style: none; margin:0; padding: 0}\n",
       ".list-inline>li {display: inline-block}\n",
       ".list-inline>li:not(:last-child)::after {content: \"\\00b7\"; padding: 0 .5ex}\n",
       "</style>\n",
       "<ol class=list-inline><li>2</li><li>5</li><li>10</li><li>11</li><li>12</li><li>13</li></ol>\n"
      ],
      "text/latex": [
       "\\begin{enumerate*}\n",
       "\\item 2\n",
       "\\item 5\n",
       "\\item 10\n",
       "\\item 11\n",
       "\\item 12\n",
       "\\item 13\n",
       "\\end{enumerate*}\n"
      ],
      "text/markdown": [
       "1. 2\n",
       "2. 5\n",
       "3. 10\n",
       "4. 11\n",
       "5. 12\n",
       "6. 13\n",
       "\n",
       "\n"
      ],
      "text/plain": [
       "[1]  2  5 10 11 12 13"
      ]
     },
     "metadata": {},
     "output_type": "display_data"
    }
   ],
   "source": [
    "d = unlist(a)\n",
    "class(d)\n",
    "d"
   ]
  },
  {
   "cell_type": "markdown",
   "metadata": {},
   "source": [
    "---------------------------------------------------------------------------------------------------------------------------------------------"
   ]
  },
  {
   "cell_type": "markdown",
   "metadata": {},
   "source": [
    "## matrix"
   ]
  },
  {
   "cell_type": "markdown",
   "metadata": {},
   "source": [
    "#### syntax:\n",
    " matrix(data, nrow, ncol, byrow, dimnames)"
   ]
  },
  {
   "cell_type": "code",
   "execution_count": 66,
   "metadata": {},
   "outputs": [
    {
     "name": "stdout",
     "output_type": "stream",
     "text": [
      "     [,1] [,2] [,3]\n",
      "[1,]    3    4    5\n",
      "[2,]    6    7    8\n",
      "[3,]    9   10   11\n",
      "[4,]   12   13   14\n"
     ]
    }
   ],
   "source": [
    "# create a matrix\n",
    "a = matrix(c(3:14), nrow = 4 ,ncol = 3 ,byrow = TRUE)\n",
    "print(a)"
   ]
  },
  {
   "cell_type": "code",
   "execution_count": 67,
   "metadata": {},
   "outputs": [
    {
     "name": "stdout",
     "output_type": "stream",
     "text": [
      "     [,1] [,2] [,3] [,4]\n",
      "[1,]    3    9    3    9\n",
      "[2,]    4   10    4   10\n",
      "[3,]    5   11    5   11\n",
      "[4,]    6   12    6   12\n",
      "[5,]    7   13    7   13\n",
      "[6,]    8   14    8   14\n"
     ]
    }
   ],
   "source": [
    "b <- matrix(c(3:14), ncol = 4,nrow=6 , byrow = FALSE)\n",
    "print(b)"
   ]
  },
  {
   "cell_type": "code",
   "execution_count": 68,
   "metadata": {},
   "outputs": [
    {
     "name": "stdout",
     "output_type": "stream",
     "text": [
      "     col1 col2 col3 col4\n",
      "row1    3    9    3    9\n",
      "row2    4   10    4   10\n",
      "row3    5   11    5   11\n",
      "row4    6   12    6   12\n",
      "row5    7   13    7   13\n",
      "row6    8   14    8   14\n"
     ]
    }
   ],
   "source": [
    "rownames = c(\"row1\", \"row2\", \"row3\", \"row4\",\"row5\",\"row6\")\n",
    "colnames = c(\"col1\", \"col2\", \"col3\",\"col4\")\n",
    "\n",
    "b <- matrix(c(3:14), ncol = 4,nrow=6 , byrow = FALSE,dimnames=list(rownames,colnames))\n",
    "print(b)"
   ]
  },
  {
   "cell_type": "code",
   "execution_count": 69,
   "metadata": {},
   "outputs": [
    {
     "name": "stdout",
     "output_type": "stream",
     "text": [
      "col1 col2 col3 col4 \n",
      "   3    9    3    9 \n",
      "row1 row2 row3 row4 row5 row6 \n",
      "   3    4    5    6    7    8 \n",
      "[1] 9\n"
     ]
    }
   ],
   "source": [
    "# accessing matrix\n",
    "print(b[1,])\n",
    "print(b[,1])\n",
    "print(b[1,4])"
   ]
  },
  {
   "cell_type": "code",
   "execution_count": 70,
   "metadata": {},
   "outputs": [
    {
     "name": "stdout",
     "output_type": "stream",
     "text": [
      "     col1 col2 col3\n",
      "row1    8   -1    5\n",
      "row2   11   13   10\n",
      "\n",
      "     col1 col2 col3\n",
      "row1   -2   -1   -1\n",
      "row2    7   -5    2\n",
      "\n",
      "     col1 col2 col3\n",
      "row1   15    0    6\n",
      "row2   18   36   24\n",
      "\n",
      "     col1      col2      col3\n",
      "row1  0.6      -Inf 0.6666667\n",
      "row2  4.5 0.4444444 1.5000000\n"
     ]
    }
   ],
   "source": [
    "# matrix computations\n",
    "matrix1 <- matrix(c(3, 9, -1, 4, 2,6), nrow = 2,dimnames=list(list(\"row1\",\"row2\"),list(\"col1\",\"col2\",\"col3\")))\n",
    "matrix2 <- matrix(c(5, 2, 0, 9, 3, 4), nrow = 2,dimnames=list(list(\"row1\",\"row2\"),list(\"col1\",\"col2\",\"col3\")))\n",
    "c = matrix1+matrix2\n",
    "print(c)\n",
    "cat(\"\\n\")\n",
    "c = matrix1-matrix2\n",
    "print(c)\n",
    "cat(\"\\n\")\n",
    "c = matrix1*matrix2\n",
    "print(c)\n",
    "cat(\"\\n\")\n",
    "c = matrix1/matrix2\n",
    "print(c)"
   ]
  },
  {
   "cell_type": "markdown",
   "metadata": {},
   "source": [
    "---------------------------------------------------------------------------------------------------------------------------------------------"
   ]
  },
  {
   "cell_type": "markdown",
   "metadata": {},
   "source": [
    "## Array"
   ]
  },
  {
   "cell_type": "markdown",
   "metadata": {},
   "source": [
    "Array is store more than 2 dimensional of data"
   ]
  },
  {
   "cell_type": "code",
   "execution_count": 71,
   "metadata": {},
   "outputs": [
    {
     "name": "stdout",
     "output_type": "stream",
     "text": [
      ", , Matrix1\n",
      "\n",
      "     col1 col2 col3\n",
      "row1    5    5    5\n",
      "row2    6    6    6\n",
      "row3    7    7    7\n",
      "\n",
      ", , Matrix2\n",
      "\n",
      "     col1 col2 col3\n",
      "row1    5    5    5\n",
      "row2    6    6    6\n",
      "row3    7    7    7\n",
      "\n"
     ]
    }
   ],
   "source": [
    "a = array(c(5,6,7,5,6,7),dim=c(3,3,2),dimnames=list(list(\"row1\",\"row2\",\"row3\"),list(\"col1\",\"col2\",\"col3\"),list(\"Matrix1\",\"Matrix2\")))\n",
    "print(a)"
   ]
  },
  {
   "cell_type": "code",
   "execution_count": 72,
   "metadata": {},
   "outputs": [
    {
     "data": {
      "text/html": [
       "5"
      ],
      "text/latex": [
       "5"
      ],
      "text/markdown": [
       "5"
      ],
      "text/plain": [
       "[1] 5"
      ]
     },
     "metadata": {},
     "output_type": "display_data"
    },
    {
     "data": {
      "text/html": [
       "<style>\n",
       ".dl-inline {width: auto; margin:0; padding: 0}\n",
       ".dl-inline>dt, .dl-inline>dd {float: none; width: auto; display: inline-block}\n",
       ".dl-inline>dt::after {content: \":\\0020\"; padding-right: .5ex}\n",
       ".dl-inline>dt:not(:first-of-type) {padding-left: .5ex}\n",
       "</style><dl class=dl-inline><dt>col1</dt><dd>5</dd><dt>col2</dt><dd>5</dd><dt>col3</dt><dd>5</dd></dl>\n"
      ],
      "text/latex": [
       "\\begin{description*}\n",
       "\\item[col1] 5\n",
       "\\item[col2] 5\n",
       "\\item[col3] 5\n",
       "\\end{description*}\n"
      ],
      "text/markdown": [
       "col1\n",
       ":   5col2\n",
       ":   5col3\n",
       ":   5\n",
       "\n"
      ],
      "text/plain": [
       "col1 col2 col3 \n",
       "   5    5    5 "
      ]
     },
     "metadata": {},
     "output_type": "display_data"
    },
    {
     "data": {
      "text/html": [
       "<style>\n",
       ".dl-inline {width: auto; margin:0; padding: 0}\n",
       ".dl-inline>dt, .dl-inline>dd {float: none; width: auto; display: inline-block}\n",
       ".dl-inline>dt::after {content: \":\\0020\"; padding-right: .5ex}\n",
       ".dl-inline>dt:not(:first-of-type) {padding-left: .5ex}\n",
       "</style><dl class=dl-inline><dt>row1</dt><dd>5</dd><dt>row2</dt><dd>6</dd><dt>row3</dt><dd>7</dd></dl>\n"
      ],
      "text/latex": [
       "\\begin{description*}\n",
       "\\item[row1] 5\n",
       "\\item[row2] 6\n",
       "\\item[row3] 7\n",
       "\\end{description*}\n"
      ],
      "text/markdown": [
       "row1\n",
       ":   5row2\n",
       ":   6row3\n",
       ":   7\n",
       "\n"
      ],
      "text/plain": [
       "row1 row2 row3 \n",
       "   5    6    7 "
      ]
     },
     "metadata": {},
     "output_type": "display_data"
    },
    {
     "data": {
      "text/html": [
       "<table>\n",
       "<caption>A matrix: 3 × 3 of type dbl</caption>\n",
       "<thead>\n",
       "\t<tr><th></th><th scope=col>col1</th><th scope=col>col2</th><th scope=col>col3</th></tr>\n",
       "</thead>\n",
       "<tbody>\n",
       "\t<tr><th scope=row>row1</th><td>5</td><td>5</td><td>5</td></tr>\n",
       "\t<tr><th scope=row>row2</th><td>6</td><td>6</td><td>6</td></tr>\n",
       "\t<tr><th scope=row>row3</th><td>7</td><td>7</td><td>7</td></tr>\n",
       "</tbody>\n",
       "</table>\n"
      ],
      "text/latex": [
       "A matrix: 3 × 3 of type dbl\n",
       "\\begin{tabular}{r|lll}\n",
       "  & col1 & col2 & col3\\\\\n",
       "\\hline\n",
       "\trow1 & 5 & 5 & 5\\\\\n",
       "\trow2 & 6 & 6 & 6\\\\\n",
       "\trow3 & 7 & 7 & 7\\\\\n",
       "\\end{tabular}\n"
      ],
      "text/markdown": [
       "\n",
       "A matrix: 3 × 3 of type dbl\n",
       "\n",
       "| <!--/--> | col1 | col2 | col3 |\n",
       "|---|---|---|---|\n",
       "| row1 | 5 | 5 | 5 |\n",
       "| row2 | 6 | 6 | 6 |\n",
       "| row3 | 7 | 7 | 7 |\n",
       "\n"
      ],
      "text/plain": [
       "     col1 col2 col3\n",
       "row1 5    5    5   \n",
       "row2 6    6    6   \n",
       "row3 7    7    7   "
      ]
     },
     "metadata": {},
     "output_type": "display_data"
    }
   ],
   "source": [
    "#accessing\n",
    "a[1,2,1]\n",
    "a[1,,2]\n",
    "a[,2,1]\n",
    "a[,,2]"
   ]
  },
  {
   "cell_type": "code",
   "execution_count": 73,
   "metadata": {},
   "outputs": [],
   "source": [
    "vector1 <- c(5,9,3)\n",
    "vector2 <- c(10,11,12,13,14,15)\n",
    "a <- array(vector1,dim = c(3,2,1))\n",
    "b <- array(vector2,dim = c(3,2,1))"
   ]
  },
  {
   "cell_type": "code",
   "execution_count": 74,
   "metadata": {},
   "outputs": [
    {
     "name": "stdout",
     "output_type": "stream",
     "text": [
      ", , 1\n",
      "\n",
      "     [,1] [,2]\n",
      "[1,]   50   65\n",
      "[2,]   99  126\n",
      "[3,]   36   45\n",
      "\n"
     ]
    }
   ],
   "source": [
    "c=a*b\n",
    "print(c)"
   ]
  },
  {
   "cell_type": "markdown",
   "metadata": {},
   "source": [
    "----------------------------------------------------------------------------------------------------------------------------"
   ]
  },
  {
   "cell_type": "markdown",
   "metadata": {},
   "source": [
    "## Factors"
   ]
  },
  {
   "cell_type": "markdown",
   "metadata": {},
   "source": [
    "Factors is take input from vector type. it is store in different type of data"
   ]
  },
  {
   "cell_type": "code",
   "execution_count": 75,
   "metadata": {},
   "outputs": [
    {
     "data": {
      "text/html": [
       "<style>\n",
       ".list-inline {list-style: none; margin:0; padding: 0}\n",
       ".list-inline>li {display: inline-block}\n",
       ".list-inline>li:not(:last-child)::after {content: \"\\00b7\"; padding: 0 .5ex}\n",
       "</style>\n",
       "<ol class=list-inline><li>100</li><li>200</li><li>venky</li><li>100</li><li>200</li></ol>\n",
       "\n",
       "<details>\n",
       "\t<summary style=display:list-item;cursor:pointer>\n",
       "\t\t<strong>Levels</strong>:\n",
       "\t</summary>\n",
       "\t<style>\n",
       "\t.list-inline {list-style: none; margin:0; padding: 0}\n",
       "\t.list-inline>li {display: inline-block}\n",
       "\t.list-inline>li:not(:last-child)::after {content: \"\\00b7\"; padding: 0 .5ex}\n",
       "\t</style>\n",
       "\t<ol class=list-inline><li>'100'</li><li>'200'</li><li>'venky'</li></ol>\n",
       "</details>"
      ],
      "text/latex": [
       "\\begin{enumerate*}\n",
       "\\item 100\n",
       "\\item 200\n",
       "\\item venky\n",
       "\\item 100\n",
       "\\item 200\n",
       "\\end{enumerate*}\n",
       "\n",
       "\\emph{Levels}: \\begin{enumerate*}\n",
       "\\item '100'\n",
       "\\item '200'\n",
       "\\item 'venky'\n",
       "\\end{enumerate*}\n"
      ],
      "text/markdown": [
       "1. 100\n",
       "2. 200\n",
       "3. venky\n",
       "4. 100\n",
       "5. 200\n",
       "\n",
       "\n",
       "\n",
       "**Levels**: 1. '100'\n",
       "2. '200'\n",
       "3. 'venky'\n",
       "\n",
       "\n"
      ],
      "text/plain": [
       "[1] 100   200   venky 100   200  \n",
       "Levels: 100 200 venky"
      ]
     },
     "metadata": {},
     "output_type": "display_data"
    }
   ],
   "source": [
    "# create vectors\n",
    "data = c(100,200,\"venky\",100,200)\n",
    "f=factor(data)\n",
    "f"
   ]
  },
  {
   "cell_type": "code",
   "execution_count": 76,
   "metadata": {},
   "outputs": [
    {
     "name": "stdout",
     "output_type": "stream",
     "text": [
      "[1] 100   100   100   200   200   200   venky venky venky\n",
      "Levels: 100 200 venky\n"
     ]
    },
    {
     "data": {
      "text/html": [
       "'factor'"
      ],
      "text/latex": [
       "'factor'"
      ],
      "text/markdown": [
       "'factor'"
      ],
      "text/plain": [
       "[1] \"factor\""
      ]
     },
     "metadata": {},
     "output_type": "display_data"
    }
   ],
   "source": [
    "#Generating Factor Levels\n",
    "v <- gl(3, 3, labels = c(100,200,\"venky\"))\n",
    "print(v)\n",
    "class(v)"
   ]
  },
  {
   "cell_type": "code",
   "execution_count": 77,
   "metadata": {},
   "outputs": [
    {
     "name": "stdout",
     "output_type": "stream",
     "text": [
      "[1] 100   100   100   <NA>  <NA>  <NA>  venky venky venky\n",
      "Levels: 100 venky\n"
     ]
    }
   ],
   "source": [
    "new_order_data <- factor(v,levels = c(100,\"venky\"))\n",
    "print(new_order_data)"
   ]
  },
  {
   "cell_type": "code",
   "execution_count": 78,
   "metadata": {},
   "outputs": [
    {
     "data": {
      "text/html": [
       "FALSE"
      ],
      "text/latex": [
       "FALSE"
      ],
      "text/markdown": [
       "FALSE"
      ],
      "text/plain": [
       "[1] FALSE"
      ]
     },
     "metadata": {},
     "output_type": "display_data"
    },
    {
     "data": {
      "text/html": [
       "TRUE"
      ],
      "text/latex": [
       "TRUE"
      ],
      "text/markdown": [
       "TRUE"
      ],
      "text/plain": [
       "[1] TRUE"
      ]
     },
     "metadata": {},
     "output_type": "display_data"
    },
    {
     "data": {
      "text/html": [
       "TRUE"
      ],
      "text/latex": [
       "TRUE"
      ],
      "text/markdown": [
       "TRUE"
      ],
      "text/plain": [
       "[1] TRUE"
      ]
     },
     "metadata": {},
     "output_type": "display_data"
    }
   ],
   "source": [
    "#type check\n",
    "is.factor(data)\n",
    "is.vector(data)\n",
    "is.factor(f)"
   ]
  },
  {
   "cell_type": "markdown",
   "metadata": {},
   "source": [
    "----------------------------------------------------------------------------------------------------------------------------"
   ]
  },
  {
   "cell_type": "markdown",
   "metadata": {},
   "source": [
    "## data frame"
   ]
  },
  {
   "cell_type": "code",
   "execution_count": 79,
   "metadata": {},
   "outputs": [
    {
     "data": {
      "text/html": [
       "<table>\n",
       "<caption>A data.frame: 7 × 3</caption>\n",
       "<thead>\n",
       "\t<tr><th scope=col>height</th><th scope=col>weight</th><th scope=col>gender</th></tr>\n",
       "\t<tr><th scope=col>&lt;dbl&gt;</th><th scope=col>&lt;dbl&gt;</th><th scope=col>&lt;chr&gt;</th></tr>\n",
       "</thead>\n",
       "<tbody>\n",
       "\t<tr><td>132</td><td>48</td><td>male  </td></tr>\n",
       "\t<tr><td>151</td><td>49</td><td>male  </td></tr>\n",
       "\t<tr><td>162</td><td>66</td><td>female</td></tr>\n",
       "\t<tr><td>139</td><td>53</td><td>female</td></tr>\n",
       "\t<tr><td>166</td><td>67</td><td>male  </td></tr>\n",
       "\t<tr><td>147</td><td>52</td><td>female</td></tr>\n",
       "\t<tr><td>122</td><td>40</td><td>male  </td></tr>\n",
       "</tbody>\n",
       "</table>\n"
      ],
      "text/latex": [
       "A data.frame: 7 × 3\n",
       "\\begin{tabular}{lll}\n",
       " height & weight & gender\\\\\n",
       " <dbl> & <dbl> & <chr>\\\\\n",
       "\\hline\n",
       "\t 132 & 48 & male  \\\\\n",
       "\t 151 & 49 & male  \\\\\n",
       "\t 162 & 66 & female\\\\\n",
       "\t 139 & 53 & female\\\\\n",
       "\t 166 & 67 & male  \\\\\n",
       "\t 147 & 52 & female\\\\\n",
       "\t 122 & 40 & male  \\\\\n",
       "\\end{tabular}\n"
      ],
      "text/markdown": [
       "\n",
       "A data.frame: 7 × 3\n",
       "\n",
       "| height &lt;dbl&gt; | weight &lt;dbl&gt; | gender &lt;chr&gt; |\n",
       "|---|---|---|\n",
       "| 132 | 48 | male   |\n",
       "| 151 | 49 | male   |\n",
       "| 162 | 66 | female |\n",
       "| 139 | 53 | female |\n",
       "| 166 | 67 | male   |\n",
       "| 147 | 52 | female |\n",
       "| 122 | 40 | male   |\n",
       "\n"
      ],
      "text/plain": [
       "  height weight gender\n",
       "1 132    48     male  \n",
       "2 151    49     male  \n",
       "3 162    66     female\n",
       "4 139    53     female\n",
       "5 166    67     male  \n",
       "6 147    52     female\n",
       "7 122    40     male  "
      ]
     },
     "metadata": {},
     "output_type": "display_data"
    }
   ],
   "source": [
    "height <- c(132,151,162,139,166,147,122)\n",
    "weight <- c(48,49,66,53,67,52,40)\n",
    "gender <- c(\"male\",\"male\",\"female\",\"female\",\"male\",\"female\",\"male\")\n",
    "df = data.frame(height,weight,gender)\n",
    "df"
   ]
  },
  {
   "cell_type": "code",
   "execution_count": 80,
   "metadata": {},
   "outputs": [
    {
     "data": {
      "text/html": [
       "<style>\n",
       ".list-inline {list-style: none; margin:0; padding: 0}\n",
       ".list-inline>li {display: inline-block}\n",
       ".list-inline>li:not(:last-child)::after {content: \"\\00b7\"; padding: 0 .5ex}\n",
       "</style>\n",
       "<ol class=list-inline><li>male</li><li>male</li><li>female</li><li>female</li><li>male</li><li>female</li><li>male</li></ol>\n",
       "\n",
       "<details>\n",
       "\t<summary style=display:list-item;cursor:pointer>\n",
       "\t\t<strong>Levels</strong>:\n",
       "\t</summary>\n",
       "\t<style>\n",
       "\t.list-inline {list-style: none; margin:0; padding: 0}\n",
       "\t.list-inline>li {display: inline-block}\n",
       "\t.list-inline>li:not(:last-child)::after {content: \"\\00b7\"; padding: 0 .5ex}\n",
       "\t</style>\n",
       "\t<ol class=list-inline><li>'female'</li><li>'male'</li></ol>\n",
       "</details>"
      ],
      "text/latex": [
       "\\begin{enumerate*}\n",
       "\\item male\n",
       "\\item male\n",
       "\\item female\n",
       "\\item female\n",
       "\\item male\n",
       "\\item female\n",
       "\\item male\n",
       "\\end{enumerate*}\n",
       "\n",
       "\\emph{Levels}: \\begin{enumerate*}\n",
       "\\item 'female'\n",
       "\\item 'male'\n",
       "\\end{enumerate*}\n"
      ],
      "text/markdown": [
       "1. male\n",
       "2. male\n",
       "3. female\n",
       "4. female\n",
       "5. male\n",
       "6. female\n",
       "7. male\n",
       "\n",
       "\n",
       "\n",
       "**Levels**: 1. 'female'\n",
       "2. 'male'\n",
       "\n",
       "\n"
      ],
      "text/plain": [
       "[1] male   male   female female male   female male  \n",
       "Levels: female male"
      ]
     },
     "metadata": {},
     "output_type": "display_data"
    }
   ],
   "source": [
    "factor(df$gender)"
   ]
  },
  {
   "cell_type": "code",
   "execution_count": 81,
   "metadata": {},
   "outputs": [
    {
     "name": "stdout",
     "output_type": "stream",
     "text": [
      "  height weight gender\n",
      "1    132     48   male\n",
      "2    151     49   male\n",
      "3    162     66 female\n",
      "4    139     53 female\n",
      "5    166     67   male\n",
      "6    147     52 female\n",
      "7    122     40   male\n",
      "\n",
      "  height weight gender\n",
      "1    132     48   male\n",
      "2    151     49   male\n",
      "3    162     66 female\n",
      "4    139     53 female\n",
      "5    166     67   male\n",
      "6    147     52 female\n",
      "7    122     40   male\n"
     ]
    }
   ],
   "source": [
    "# add Row\n",
    "# dataframe1\n",
    "height <- c(132,151,162,139,166,147,122)\n",
    "weight <- c(48,49,66,53,67,52,40)\n",
    "gender <- c(\"male\",\"male\",\"female\",\"female\",\"male\",\"female\",\"male\")\n",
    "df1 = data.frame(height,weight,gender)\n",
    "print(df1)\n",
    "\n",
    "cat(\"\\n\")\n",
    "#datafrme 2\n",
    "height <- c(132,151,162,139,166,147,122)\n",
    "weight <- c(48,49,66,53,67,52,40)\n",
    "gender <- c(\"male\",\"male\",\"female\",\"female\",\"male\",\"female\",\"male\")\n",
    "df2 = data.frame(height,weight,gender)\n",
    "print(df2)"
   ]
  },
  {
   "cell_type": "code",
   "execution_count": 82,
   "metadata": {},
   "outputs": [
    {
     "name": "stdout",
     "output_type": "stream",
     "text": [
      "   height weight gender\n",
      "1     132     48   male\n",
      "2     151     49   male\n",
      "3     162     66 female\n",
      "4     139     53 female\n",
      "5     166     67   male\n",
      "6     147     52 female\n",
      "7     122     40   male\n",
      "8     132     48   male\n",
      "9     151     49   male\n",
      "10    162     66 female\n",
      "11    139     53 female\n",
      "12    166     67   male\n",
      "13    147     52 female\n",
      "14    122     40   male\n"
     ]
    }
   ],
   "source": [
    "#combine df,df2\n",
    "df=rbind(df1,df2)\n",
    "print(df)"
   ]
  },
  {
   "cell_type": "code",
   "execution_count": 83,
   "metadata": {},
   "outputs": [],
   "source": [
    "#add column"
   ]
  },
  {
   "cell_type": "code",
   "execution_count": 84,
   "metadata": {},
   "outputs": [],
   "source": [
    "df$dept <- c(10,20,30,40,50,60,70,10,20,30,40,50,60,70)"
   ]
  },
  {
   "cell_type": "code",
   "execution_count": 85,
   "metadata": {},
   "outputs": [
    {
     "data": {
      "text/html": [
       "<table>\n",
       "<caption>A data.frame: 14 × 4</caption>\n",
       "<thead>\n",
       "\t<tr><th scope=col>height</th><th scope=col>weight</th><th scope=col>gender</th><th scope=col>dept</th></tr>\n",
       "\t<tr><th scope=col>&lt;dbl&gt;</th><th scope=col>&lt;dbl&gt;</th><th scope=col>&lt;chr&gt;</th><th scope=col>&lt;dbl&gt;</th></tr>\n",
       "</thead>\n",
       "<tbody>\n",
       "\t<tr><td>132</td><td>48</td><td>male  </td><td>10</td></tr>\n",
       "\t<tr><td>151</td><td>49</td><td>male  </td><td>20</td></tr>\n",
       "\t<tr><td>162</td><td>66</td><td>female</td><td>30</td></tr>\n",
       "\t<tr><td>139</td><td>53</td><td>female</td><td>40</td></tr>\n",
       "\t<tr><td>166</td><td>67</td><td>male  </td><td>50</td></tr>\n",
       "\t<tr><td>147</td><td>52</td><td>female</td><td>60</td></tr>\n",
       "\t<tr><td>122</td><td>40</td><td>male  </td><td>70</td></tr>\n",
       "\t<tr><td>132</td><td>48</td><td>male  </td><td>10</td></tr>\n",
       "\t<tr><td>151</td><td>49</td><td>male  </td><td>20</td></tr>\n",
       "\t<tr><td>162</td><td>66</td><td>female</td><td>30</td></tr>\n",
       "\t<tr><td>139</td><td>53</td><td>female</td><td>40</td></tr>\n",
       "\t<tr><td>166</td><td>67</td><td>male  </td><td>50</td></tr>\n",
       "\t<tr><td>147</td><td>52</td><td>female</td><td>60</td></tr>\n",
       "\t<tr><td>122</td><td>40</td><td>male  </td><td>70</td></tr>\n",
       "</tbody>\n",
       "</table>\n"
      ],
      "text/latex": [
       "A data.frame: 14 × 4\n",
       "\\begin{tabular}{llll}\n",
       " height & weight & gender & dept\\\\\n",
       " <dbl> & <dbl> & <chr> & <dbl>\\\\\n",
       "\\hline\n",
       "\t 132 & 48 & male   & 10\\\\\n",
       "\t 151 & 49 & male   & 20\\\\\n",
       "\t 162 & 66 & female & 30\\\\\n",
       "\t 139 & 53 & female & 40\\\\\n",
       "\t 166 & 67 & male   & 50\\\\\n",
       "\t 147 & 52 & female & 60\\\\\n",
       "\t 122 & 40 & male   & 70\\\\\n",
       "\t 132 & 48 & male   & 10\\\\\n",
       "\t 151 & 49 & male   & 20\\\\\n",
       "\t 162 & 66 & female & 30\\\\\n",
       "\t 139 & 53 & female & 40\\\\\n",
       "\t 166 & 67 & male   & 50\\\\\n",
       "\t 147 & 52 & female & 60\\\\\n",
       "\t 122 & 40 & male   & 70\\\\\n",
       "\\end{tabular}\n"
      ],
      "text/markdown": [
       "\n",
       "A data.frame: 14 × 4\n",
       "\n",
       "| height &lt;dbl&gt; | weight &lt;dbl&gt; | gender &lt;chr&gt; | dept &lt;dbl&gt; |\n",
       "|---|---|---|---|\n",
       "| 132 | 48 | male   | 10 |\n",
       "| 151 | 49 | male   | 20 |\n",
       "| 162 | 66 | female | 30 |\n",
       "| 139 | 53 | female | 40 |\n",
       "| 166 | 67 | male   | 50 |\n",
       "| 147 | 52 | female | 60 |\n",
       "| 122 | 40 | male   | 70 |\n",
       "| 132 | 48 | male   | 10 |\n",
       "| 151 | 49 | male   | 20 |\n",
       "| 162 | 66 | female | 30 |\n",
       "| 139 | 53 | female | 40 |\n",
       "| 166 | 67 | male   | 50 |\n",
       "| 147 | 52 | female | 60 |\n",
       "| 122 | 40 | male   | 70 |\n",
       "\n"
      ],
      "text/plain": [
       "   height weight gender dept\n",
       "1  132    48     male   10  \n",
       "2  151    49     male   20  \n",
       "3  162    66     female 30  \n",
       "4  139    53     female 40  \n",
       "5  166    67     male   50  \n",
       "6  147    52     female 60  \n",
       "7  122    40     male   70  \n",
       "8  132    48     male   10  \n",
       "9  151    49     male   20  \n",
       "10 162    66     female 30  \n",
       "11 139    53     female 40  \n",
       "12 166    67     male   50  \n",
       "13 147    52     female 60  \n",
       "14 122    40     male   70  "
      ]
     },
     "metadata": {},
     "output_type": "display_data"
    }
   ],
   "source": [
    "df"
   ]
  },
  {
   "cell_type": "markdown",
   "metadata": {},
   "source": [
    "----------------------------------------------------------------------------------------------------------------------------"
   ]
  },
  {
   "cell_type": "markdown",
   "metadata": {},
   "source": [
    "## Get input from User\n"
   ]
  },
  {
   "cell_type": "markdown",
   "metadata": {},
   "source": [
    "you get input value from user in character type format"
   ]
  },
  {
   "cell_type": "code",
   "execution_count": 86,
   "metadata": {},
   "outputs": [
    {
     "name": "stdout",
     "output_type": "stream",
     "text": [
      "enter a A values:\n"
     ]
    },
    {
     "data": {
      "text/html": [
       "'character'"
      ],
      "text/latex": [
       "'character'"
      ],
      "text/markdown": [
       "'character'"
      ],
      "text/plain": [
       "[1] \"character\""
      ]
     },
     "metadata": {},
     "output_type": "display_data"
    },
    {
     "data": {
      "text/html": [
       "'numeric'"
      ],
      "text/latex": [
       "'numeric'"
      ],
      "text/markdown": [
       "'numeric'"
      ],
      "text/plain": [
       "[1] \"numeric\""
      ]
     },
     "metadata": {},
     "output_type": "display_data"
    }
   ],
   "source": [
    "a=readline(prompt=\"enter a A values:\") # get input from user\n",
    "class(a)\n",
    "a=as.numeric(a) #convert a numeric format\n",
    "class(a)"
   ]
  },
  {
   "cell_type": "markdown",
   "metadata": {},
   "source": [
    "----------------------------------------------------------------------------------------------------------------------------"
   ]
  },
  {
   "cell_type": "markdown",
   "metadata": {},
   "source": [
    "## function"
   ]
  },
  {
   "cell_type": "code",
   "execution_count": 87,
   "metadata": {},
   "outputs": [
    {
     "name": "stdout",
     "output_type": "stream",
     "text": [
      "enter a value:\n",
      "a = "
     ]
    }
   ],
   "source": [
    "#calling function\n",
    "functionname = function(a){\n",
    "    cat(\"a =\",a)\n",
    "}\n",
    "\n",
    "z=readline(prompt=\"enter a value:\")\n",
    "functionname(z)"
   ]
  },
  {
   "cell_type": "code",
   "execution_count": 88,
   "metadata": {},
   "outputs": [
    {
     "name": "stdout",
     "output_type": "stream",
     "text": [
      "a = 3enter a value:\n",
      "a = "
     ]
    }
   ],
   "source": [
    "# Calling a Function with Default Argument\n",
    "functionname = function(a=3){\n",
    "    cat(\"a =\",a)\n",
    "}\n",
    "\n",
    "functionname()\n",
    "z=readline(prompt=\"enter a value:\")\n",
    "functionname(z)"
   ]
  },
  {
   "cell_type": "code",
   "execution_count": 89,
   "metadata": {},
   "outputs": [
    {
     "name": "stdout",
     "output_type": "stream",
     "text": [
      "a= 5 \n",
      "b= 6 \n",
      "c= 7"
     ]
    }
   ],
   "source": [
    "#Calling a Function with Argument Values (by position and by name)\n",
    "functionname = function(a,b,c){\n",
    "    cat(\"a=\",a,\"\\n\")\n",
    "    cat(\"b=\",b,\"\\n\")\n",
    "    cat(\"c=\",c)\n",
    "}\n",
    "\n",
    "\n",
    "functionname(c=7,b=6,a=5)"
   ]
  },
  {
   "cell_type": "code",
   "execution_count": 90,
   "metadata": {},
   "outputs": [
    {
     "name": "stdout",
     "output_type": "stream",
     "text": [
      "enter a value:\n",
      "a = "
     ]
    }
   ],
   "source": [
    "# return\n",
    "functionname = function(a){\n",
    "    return(a)\n",
    "}\n",
    "\n",
    "z=readline(prompt=\"enter a value:\")\n",
    "a = functionname(z)\n",
    "cat(\"a =\",a)"
   ]
  },
  {
   "cell_type": "markdown",
   "metadata": {},
   "source": [
    "----------------------------------------------------------------------------------------------------------------------------"
   ]
  },
  {
   "cell_type": "markdown",
   "metadata": {},
   "source": [
    "## package"
   ]
  },
  {
   "cell_type": "code",
   "execution_count": 91,
   "metadata": {},
   "outputs": [
    {
     "data": {
      "text/html": [
       "'C:/0/R-4.0.0/library'"
      ],
      "text/latex": [
       "'C:/0/R-4.0.0/library'"
      ],
      "text/markdown": [
       "'C:/0/R-4.0.0/library'"
      ],
      "text/plain": [
       "[1] \"C:/0/R-4.0.0/library\""
      ]
     },
     "metadata": {},
     "output_type": "display_data"
    }
   ],
   "source": [
    ".libPaths()"
   ]
  },
  {
   "cell_type": "code",
   "execution_count": 98,
   "metadata": {},
   "outputs": [],
   "source": [
    "print(library())"
   ]
  },
  {
   "cell_type": "code",
   "execution_count": 93,
   "metadata": {},
   "outputs": [
    {
     "name": "stdout",
     "output_type": "stream",
     "text": [
      "package 'XML' successfully unpacked and MD5 sums checked\n",
      "\n",
      "The downloaded binary packages are in\n",
      "\tC:\\Users\\VENKATESHWARAN\\AppData\\Local\\Temp\\RtmpctO6n1\\downloaded_packages\n"
     ]
    },
    {
     "ename": "ERROR",
     "evalue": "Error in !install.packages(\"XML\"): invalid argument type\n",
     "output_type": "error",
     "traceback": [
      "Error in !install.packages(\"XML\"): invalid argument type\nTraceback:\n"
     ]
    }
   ],
   "source": [
    "!install.packages(\"XML\")"
   ]
  },
  {
   "cell_type": "markdown",
   "metadata": {},
   "source": [
    "----------------------------------------------------------------------------------------------------------------------------"
   ]
  },
  {
   "cell_type": "markdown",
   "metadata": {},
   "source": [
    "#### How To Run R Proograms In Jupyter "
   ]
  },
  {
   "cell_type": "code",
   "execution_count": 95,
   "metadata": {},
   "outputs": [
    {
     "name": "stdout",
     "output_type": "stream",
     "text": [
      "package 'IRkernel' successfully unpacked and MD5 sums checked\n",
      "\n",
      "The downloaded binary packages are in\n",
      "\tC:\\Users\\VENKATESHWARAN\\AppData\\Local\\Temp\\RtmpctO6n1\\downloaded_packages\n"
     ]
    },
    {
     "ename": "ERROR",
     "evalue": "Error in !install.packages(\"IRkernel\"): invalid argument type\n",
     "output_type": "error",
     "traceback": [
      "Error in !install.packages(\"IRkernel\"): invalid argument type\nTraceback:\n"
     ]
    }
   ],
   "source": [
    "!install.packages(\"IRkernel\")"
   ]
  },
  {
   "cell_type": "code",
   "execution_count": 96,
   "metadata": {},
   "outputs": [],
   "source": [
    "IRkernel::installspec()"
   ]
  },
  {
   "cell_type": "code",
   "execution_count": 97,
   "metadata": {},
   "outputs": [],
   "source": [
    "IRkernel::installspec(user = FALSE)"
   ]
  },
  {
   "cell_type": "markdown",
   "metadata": {},
   "source": [
    "---------------------------------------------------------------------------------------------------------------------------------------------"
   ]
  }
 ],
 "metadata": {
  "kernelspec": {
   "display_name": "R",
   "language": "R",
   "name": "ir"
  },
  "language_info": {
   "codemirror_mode": "r",
   "file_extension": ".r",
   "mimetype": "text/x-r-source",
   "name": "R",
   "pygments_lexer": "r",
   "version": "4.0.0"
  }
 },
 "nbformat": 4,
 "nbformat_minor": 4
}
